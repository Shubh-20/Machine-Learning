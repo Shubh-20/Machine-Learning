{
  "nbformat": 4,
  "nbformat_minor": 0,
  "metadata": {
    "colab": {
      "name": "Tenessee Eastman Process Dataset.ipynb",
      "provenance": []
    },
    "kernelspec": {
      "name": "python3",
      "display_name": "Python 3"
    }
  },
  "cells": [
    {
      "cell_type": "code",
      "metadata": {
        "id": "xRkOnURkh7hA"
      },
      "source": [
        "import pandas as pd\n",
        "import numpy as np\n",
        "import matplotlib.pyplot as plt\n",
        "import seaborn as sns\n",
        "%matplotlib inline"
      ],
      "execution_count": 1,
      "outputs": []
    },
    {
      "cell_type": "code",
      "metadata": {
        "id": "GWbjoiVjiZX1"
      },
      "source": [
        "train = pd.read_pickle('/content/Dataframe_for_faults.pkl')"
      ],
      "execution_count": 2,
      "outputs": []
    },
    {
      "cell_type": "code",
      "metadata": {
        "id": "9m87kFp9ihq1"
      },
      "source": [
        "test = pd.read_pickle('/content/Testing_Dataframe_for_faults.pkl')"
      ],
      "execution_count": 3,
      "outputs": []
    },
    {
      "cell_type": "code",
      "metadata": {
        "id": "SiyoEYTOil9W",
        "outputId": "76892ab8-7ec7-4802-e6fb-316f3372b08f",
        "colab": {
          "base_uri": "https://localhost:8080/",
          "height": 34
        }
      },
      "source": [
        "len(train)"
      ],
      "execution_count": 4,
      "outputs": [
        {
          "output_type": "execute_result",
          "data": {
            "text/plain": [
              "10059"
            ]
          },
          "metadata": {
            "tags": []
          },
          "execution_count": 4
        }
      ]
    },
    {
      "cell_type": "code",
      "metadata": {
        "id": "tAUdH8aaitJb",
        "outputId": "2f00cfdb-2017-4468-fa03-f91dd079ed1b",
        "colab": {
          "base_uri": "https://localhost:8080/",
          "height": 34
        }
      },
      "source": [
        "len(test)"
      ],
      "execution_count": 5,
      "outputs": [
        {
          "output_type": "execute_result",
          "data": {
            "text/plain": [
              "20139"
            ]
          },
          "metadata": {
            "tags": []
          },
          "execution_count": 5
        }
      ]
    },
    {
      "cell_type": "code",
      "metadata": {
        "id": "HkCbEHzViu80"
      },
      "source": [
        "total = pd.concat([train,test])"
      ],
      "execution_count": 6,
      "outputs": []
    },
    {
      "cell_type": "code",
      "metadata": {
        "id": "ldGY5gXoi087",
        "outputId": "e1925671-4ea4-477f-da38-785990b8a581",
        "colab": {
          "base_uri": "https://localhost:8080/",
          "height": 34
        }
      },
      "source": [
        "len(total)"
      ],
      "execution_count": 7,
      "outputs": [
        {
          "output_type": "execute_result",
          "data": {
            "text/plain": [
              "30198"
            ]
          },
          "metadata": {
            "tags": []
          },
          "execution_count": 7
        }
      ]
    },
    {
      "cell_type": "code",
      "metadata": {
        "id": "5V9EE7Eoi3Tg",
        "outputId": "57928d92-b97b-499d-f8c2-400df85eb7fd",
        "colab": {
          "base_uri": "https://localhost:8080/",
          "height": 117
        }
      },
      "source": [
        "total.head(1)"
      ],
      "execution_count": 8,
      "outputs": [
        {
          "output_type": "execute_result",
          "data": {
            "text/html": [
              "<div>\n",
              "<style scoped>\n",
              "    .dataframe tbody tr th:only-of-type {\n",
              "        vertical-align: middle;\n",
              "    }\n",
              "\n",
              "    .dataframe tbody tr th {\n",
              "        vertical-align: top;\n",
              "    }\n",
              "\n",
              "    .dataframe thead th {\n",
              "        text-align: right;\n",
              "    }\n",
              "</style>\n",
              "<table border=\"1\" class=\"dataframe\">\n",
              "  <thead>\n",
              "    <tr style=\"text-align: right;\">\n",
              "      <th></th>\n",
              "      <th>Var1</th>\n",
              "      <th>Var2</th>\n",
              "      <th>Var3</th>\n",
              "      <th>Var4</th>\n",
              "      <th>Var5</th>\n",
              "      <th>Var6</th>\n",
              "      <th>Var7</th>\n",
              "      <th>Var8</th>\n",
              "      <th>Var9</th>\n",
              "      <th>Var10</th>\n",
              "      <th>Var11</th>\n",
              "      <th>Var12</th>\n",
              "      <th>Var13</th>\n",
              "      <th>Var14</th>\n",
              "      <th>Var15</th>\n",
              "      <th>Var16</th>\n",
              "      <th>Var17</th>\n",
              "      <th>Var18</th>\n",
              "      <th>Var19</th>\n",
              "      <th>Var20</th>\n",
              "      <th>Var21</th>\n",
              "      <th>Var22</th>\n",
              "      <th>Var23</th>\n",
              "      <th>Var24</th>\n",
              "      <th>Var25</th>\n",
              "      <th>Var26</th>\n",
              "      <th>Var27</th>\n",
              "      <th>Var28</th>\n",
              "      <th>Var29</th>\n",
              "      <th>Var30</th>\n",
              "      <th>Var31</th>\n",
              "      <th>Var32</th>\n",
              "      <th>Var33</th>\n",
              "      <th>Var34</th>\n",
              "      <th>Var35</th>\n",
              "      <th>Var36</th>\n",
              "      <th>Var37</th>\n",
              "      <th>Var38</th>\n",
              "      <th>Var39</th>\n",
              "      <th>Var40</th>\n",
              "      <th>Var41</th>\n",
              "      <th>Var42</th>\n",
              "      <th>Var43</th>\n",
              "      <th>Var44</th>\n",
              "      <th>Var45</th>\n",
              "      <th>Var46</th>\n",
              "      <th>Var47</th>\n",
              "      <th>Var48</th>\n",
              "      <th>Var49</th>\n",
              "      <th>Var50</th>\n",
              "      <th>Var51</th>\n",
              "      <th>Var52</th>\n",
              "      <th>Fault Type</th>\n",
              "    </tr>\n",
              "  </thead>\n",
              "  <tbody>\n",
              "    <tr>\n",
              "      <th>0</th>\n",
              "      <td>0.236</td>\n",
              "      <td>0.564103</td>\n",
              "      <td>0.517544</td>\n",
              "      <td>0.474619</td>\n",
              "      <td>0.541667</td>\n",
              "      <td>0.4</td>\n",
              "      <td>0.382979</td>\n",
              "      <td>0.570588</td>\n",
              "      <td>0.0</td>\n",
              "      <td>0.247117</td>\n",
              "      <td>0.614754</td>\n",
              "      <td>0.5</td>\n",
              "      <td>0.387755</td>\n",
              "      <td>0.64</td>\n",
              "      <td>0.594203</td>\n",
              "      <td>0.346154</td>\n",
              "      <td>0.310345</td>\n",
              "      <td>0.450331</td>\n",
              "      <td>0.421717</td>\n",
              "      <td>0.548077</td>\n",
              "      <td>0.850299</td>\n",
              "      <td>0.748387</td>\n",
              "      <td>0.611511</td>\n",
              "      <td>0.584314</td>\n",
              "      <td>0.371795</td>\n",
              "      <td>0.570312</td>\n",
              "      <td>0.517857</td>\n",
              "      <td>0.766147</td>\n",
              "      <td>0.57561</td>\n",
              "      <td>0.466667</td>\n",
              "      <td>0.391489</td>\n",
              "      <td>0.505376</td>\n",
              "      <td>0.519737</td>\n",
              "      <td>0.788136</td>\n",
              "      <td>0.565385</td>\n",
              "      <td>0.601449</td>\n",
              "      <td>0.478386</td>\n",
              "      <td>0.438356</td>\n",
              "      <td>0.407478</td>\n",
              "      <td>0.682927</td>\n",
              "      <td>0.710526</td>\n",
              "      <td>0.067164</td>\n",
              "      <td>0.202726</td>\n",
              "      <td>0.235097</td>\n",
              "      <td>0.200803</td>\n",
              "      <td>0.543294</td>\n",
              "      <td>0.419595</td>\n",
              "      <td>0.510917</td>\n",
              "      <td>0.602484</td>\n",
              "      <td>0.485307</td>\n",
              "      <td>0.412105</td>\n",
              "      <td>0.157549</td>\n",
              "      <td>1</td>\n",
              "    </tr>\n",
              "  </tbody>\n",
              "</table>\n",
              "</div>"
            ],
            "text/plain": [
              "    Var1      Var2      Var3      Var4  ...     Var50     Var51     Var52  Fault Type\n",
              "0  0.236  0.564103  0.517544  0.474619  ...  0.485307  0.412105  0.157549           1\n",
              "\n",
              "[1 rows x 53 columns]"
            ]
          },
          "metadata": {
            "tags": []
          },
          "execution_count": 8
        }
      ]
    },
    {
      "cell_type": "code",
      "metadata": {
        "id": "lRkWNuEijBnI"
      },
      "source": [
        "from sklearn.model_selection import train_test_split"
      ],
      "execution_count": 9,
      "outputs": []
    },
    {
      "cell_type": "code",
      "metadata": {
        "id": "nomxFbwPjaSz"
      },
      "source": [
        "X = total.drop('Fault Type',axis=1).values\n",
        "y = total['Fault Type'].values"
      ],
      "execution_count": 10,
      "outputs": []
    },
    {
      "cell_type": "code",
      "metadata": {
        "id": "wYSYRzMTsbW6"
      },
      "source": [
        "from sklearn.preprocessing import LabelEncoder\n",
        "from tensorflow.keras.utils import to_categorical\n",
        "\n",
        "encoder = LabelEncoder()\n",
        "encoder.fit(y)\n",
        "encoded_Y = encoder.transform(y)\n",
        "# convert integers to dummy variables (i.e. one hot encoded)\n",
        "dummy_y = to_categorical(encoded_Y, num_classes=21)"
      ],
      "execution_count": 11,
      "outputs": []
    },
    {
      "cell_type": "code",
      "metadata": {
        "id": "k2N7BcskjUXn"
      },
      "source": [
        " X_train, X_test, y_train, y_test = train_test_split(X, dummy_y, test_size=0.3, random_state=42)"
      ],
      "execution_count": 12,
      "outputs": []
    },
    {
      "cell_type": "code",
      "metadata": {
        "id": "w8TDo_mOjs5L"
      },
      "source": [
        "# Creating a model\n",
        "import tensorflow as tf\n",
        "from tensorflow.keras.models import Sequential \n",
        "from tensorflow.keras.layers import Dense, Dropout\n",
        "from tensorflow.keras.utils import to_categorical"
      ],
      "execution_count": 13,
      "outputs": []
    },
    {
      "cell_type": "code",
      "metadata": {
        "id": "HbG3RzU5lEUE",
        "outputId": "c7f70948-cdd5-4402-9fd9-c94e30fa799e",
        "colab": {
          "base_uri": "https://localhost:8080/",
          "height": 34
        }
      },
      "source": [
        "X_train.shape"
      ],
      "execution_count": 14,
      "outputs": [
        {
          "output_type": "execute_result",
          "data": {
            "text/plain": [
              "(21138, 52)"
            ]
          },
          "metadata": {
            "tags": []
          },
          "execution_count": 14
        }
      ]
    },
    {
      "cell_type": "code",
      "metadata": {
        "id": "Hfodq35-nWhE",
        "outputId": "4c57418b-2e89-4427-d7ab-08823992d898",
        "colab": {
          "base_uri": "https://localhost:8080/",
          "height": 34
        }
      },
      "source": [
        "X_train.shape,X_test.shape,y_train.shape,y_test.shape"
      ],
      "execution_count": 15,
      "outputs": [
        {
          "output_type": "execute_result",
          "data": {
            "text/plain": [
              "((21138, 52), (9060, 52), (21138, 21), (9060, 21))"
            ]
          },
          "metadata": {
            "tags": []
          },
          "execution_count": 15
        }
      ]
    },
    {
      "cell_type": "code",
      "metadata": {
        "id": "vsnByk0NrXpi"
      },
      "source": [
        ""
      ],
      "execution_count": 15,
      "outputs": []
    },
    {
      "cell_type": "code",
      "metadata": {
        "id": "huML2R26pYQE"
      },
      "source": [
        ""
      ],
      "execution_count": 15,
      "outputs": []
    },
    {
      "cell_type": "code",
      "metadata": {
        "id": "xqKvVKRGkcXY"
      },
      "source": [
        "model = Sequential()\n",
        "\n",
        "model.add(Dense(52, activation='relu'))\n",
        "model.add(Dropout(0.2))\n",
        "model.add(Dense(26, activation='relu'))\n",
        "model.add(Dropout(0.2))\n",
        "model.add(Dense(13, activation='relu'))\n",
        "model.add(Dropout(0.2))\n",
        "\n",
        "model.add(Dense(units=21,activation='softmax'))\n",
        "model.compile(loss='categorical_crossentropy',optimizer='adam')\n"
      ],
      "execution_count": 16,
      "outputs": []
    },
    {
      "cell_type": "code",
      "metadata": {
        "id": "-RLKdEk9meac",
        "outputId": "1fc7e6f1-a94a-464b-bd47-32de4c2bafca",
        "colab": {
          "base_uri": "https://localhost:8080/",
          "height": 1000
        }
      },
      "source": [
        "model.fit(x=X_train,y=y_train, batch_size=64,epochs=50,validation_data=(X_test,y_test))"
      ],
      "execution_count": 17,
      "outputs": [
        {
          "output_type": "stream",
          "text": [
            "Epoch 1/50\n",
            "331/331 [==============================] - 1s 2ms/step - loss: 2.9326 - val_loss: 2.6838\n",
            "Epoch 2/50\n",
            "331/331 [==============================] - 1s 2ms/step - loss: 2.6259 - val_loss: 2.4821\n",
            "Epoch 3/50\n",
            "331/331 [==============================] - 1s 2ms/step - loss: 2.4966 - val_loss: 2.3818\n",
            "Epoch 4/50\n",
            "331/331 [==============================] - 1s 2ms/step - loss: 2.3955 - val_loss: 2.2589\n",
            "Epoch 5/50\n",
            "331/331 [==============================] - 1s 2ms/step - loss: 2.3007 - val_loss: 2.1615\n",
            "Epoch 6/50\n",
            "331/331 [==============================] - 1s 2ms/step - loss: 2.2392 - val_loss: 2.1296\n",
            "Epoch 7/50\n",
            "331/331 [==============================] - 1s 2ms/step - loss: 2.1944 - val_loss: 2.0767\n",
            "Epoch 8/50\n",
            "331/331 [==============================] - 1s 2ms/step - loss: 2.1630 - val_loss: 2.0612\n",
            "Epoch 9/50\n",
            "331/331 [==============================] - 1s 2ms/step - loss: 2.1392 - val_loss: 2.0593\n",
            "Epoch 10/50\n",
            "331/331 [==============================] - 1s 2ms/step - loss: 2.1218 - val_loss: 2.0391\n",
            "Epoch 11/50\n",
            "331/331 [==============================] - 1s 2ms/step - loss: 2.1038 - val_loss: 2.0243\n",
            "Epoch 12/50\n",
            "331/331 [==============================] - 1s 2ms/step - loss: 2.0890 - val_loss: 2.0167\n",
            "Epoch 13/50\n",
            "331/331 [==============================] - 1s 2ms/step - loss: 2.0812 - val_loss: 2.0000\n",
            "Epoch 14/50\n",
            "331/331 [==============================] - 1s 2ms/step - loss: 2.0735 - val_loss: 1.9938\n",
            "Epoch 15/50\n",
            "331/331 [==============================] - 1s 2ms/step - loss: 2.0581 - val_loss: 1.9784\n",
            "Epoch 16/50\n",
            "331/331 [==============================] - 1s 2ms/step - loss: 2.0581 - val_loss: 1.9615\n",
            "Epoch 17/50\n",
            "331/331 [==============================] - 1s 2ms/step - loss: 2.0493 - val_loss: 1.9809\n",
            "Epoch 18/50\n",
            "331/331 [==============================] - 1s 2ms/step - loss: 2.0299 - val_loss: 1.9588\n",
            "Epoch 19/50\n",
            "331/331 [==============================] - 1s 2ms/step - loss: 2.0228 - val_loss: 1.9468\n",
            "Epoch 20/50\n",
            "331/331 [==============================] - 1s 2ms/step - loss: 2.0170 - val_loss: 1.9274\n",
            "Epoch 21/50\n",
            "331/331 [==============================] - 1s 2ms/step - loss: 2.0081 - val_loss: 1.9145\n",
            "Epoch 22/50\n",
            "331/331 [==============================] - 1s 2ms/step - loss: 2.0045 - val_loss: 1.9144\n",
            "Epoch 23/50\n",
            "331/331 [==============================] - 1s 2ms/step - loss: 1.9952 - val_loss: 1.9080\n",
            "Epoch 24/50\n",
            "331/331 [==============================] - 1s 2ms/step - loss: 1.9883 - val_loss: 1.8913\n",
            "Epoch 25/50\n",
            "331/331 [==============================] - 1s 2ms/step - loss: 1.9788 - val_loss: 1.8791\n",
            "Epoch 26/50\n",
            "331/331 [==============================] - 1s 2ms/step - loss: 1.9837 - val_loss: 1.8891\n",
            "Epoch 27/50\n",
            "331/331 [==============================] - 1s 2ms/step - loss: 1.9741 - val_loss: 1.8849\n",
            "Epoch 28/50\n",
            "331/331 [==============================] - 1s 2ms/step - loss: 1.9644 - val_loss: 1.8736\n",
            "Epoch 29/50\n",
            "331/331 [==============================] - 1s 2ms/step - loss: 1.9632 - val_loss: 1.8633\n",
            "Epoch 30/50\n",
            "331/331 [==============================] - 1s 2ms/step - loss: 1.9598 - val_loss: 1.8750\n",
            "Epoch 31/50\n",
            "331/331 [==============================] - 1s 2ms/step - loss: 1.9583 - val_loss: 1.8625\n",
            "Epoch 32/50\n",
            "331/331 [==============================] - 1s 2ms/step - loss: 1.9565 - val_loss: 1.8466\n",
            "Epoch 33/50\n",
            "331/331 [==============================] - 1s 2ms/step - loss: 1.9462 - val_loss: 1.8670\n",
            "Epoch 34/50\n",
            "331/331 [==============================] - 1s 2ms/step - loss: 1.9436 - val_loss: 1.8547\n",
            "Epoch 35/50\n",
            "331/331 [==============================] - 1s 2ms/step - loss: 1.9396 - val_loss: 1.8508\n",
            "Epoch 36/50\n",
            "331/331 [==============================] - 1s 2ms/step - loss: 1.9346 - val_loss: 1.8398\n",
            "Epoch 37/50\n",
            "331/331 [==============================] - 1s 2ms/step - loss: 1.9302 - val_loss: 1.8326\n",
            "Epoch 38/50\n",
            "331/331 [==============================] - 1s 2ms/step - loss: 1.9239 - val_loss: 1.8097\n",
            "Epoch 39/50\n",
            "331/331 [==============================] - 1s 2ms/step - loss: 1.9337 - val_loss: 1.8109\n",
            "Epoch 40/50\n",
            "331/331 [==============================] - 1s 2ms/step - loss: 1.9227 - val_loss: 1.8392\n",
            "Epoch 41/50\n",
            "331/331 [==============================] - 1s 2ms/step - loss: 1.9150 - val_loss: 1.8181\n",
            "Epoch 42/50\n",
            "331/331 [==============================] - 1s 2ms/step - loss: 1.9114 - val_loss: 1.7973\n",
            "Epoch 43/50\n",
            "331/331 [==============================] - 1s 2ms/step - loss: 1.9122 - val_loss: 1.8031\n",
            "Epoch 44/50\n",
            "331/331 [==============================] - 1s 2ms/step - loss: 1.8996 - val_loss: 1.8076\n",
            "Epoch 45/50\n",
            "331/331 [==============================] - 1s 2ms/step - loss: 1.9011 - val_loss: 1.7788\n",
            "Epoch 46/50\n",
            "331/331 [==============================] - 1s 2ms/step - loss: 1.9051 - val_loss: 1.8215\n",
            "Epoch 47/50\n",
            "331/331 [==============================] - 1s 2ms/step - loss: 1.8998 - val_loss: 1.7786\n",
            "Epoch 48/50\n",
            "331/331 [==============================] - 1s 2ms/step - loss: 1.8920 - val_loss: 1.8007\n",
            "Epoch 49/50\n",
            "331/331 [==============================] - 1s 2ms/step - loss: 1.8941 - val_loss: 1.7822\n",
            "Epoch 50/50\n",
            "331/331 [==============================] - 1s 2ms/step - loss: 1.8800 - val_loss: 1.7833\n"
          ],
          "name": "stdout"
        },
        {
          "output_type": "execute_result",
          "data": {
            "text/plain": [
              "<tensorflow.python.keras.callbacks.History at 0x7f53b75ca550>"
            ]
          },
          "metadata": {
            "tags": []
          },
          "execution_count": 17
        }
      ]
    },
    {
      "cell_type": "code",
      "metadata": {
        "id": "K77_pNpImv4-"
      },
      "source": [
        "losses = pd.DataFrame(model.history.history)"
      ],
      "execution_count": 18,
      "outputs": []
    },
    {
      "cell_type": "code",
      "metadata": {
        "id": "YdvQ37ihuQfU",
        "outputId": "94660bbe-5d68-4ef6-956f-3a9a2fbc39e6",
        "colab": {
          "base_uri": "https://localhost:8080/",
          "height": 282
        }
      },
      "source": [
        "losses.plot()"
      ],
      "execution_count": 19,
      "outputs": [
        {
          "output_type": "execute_result",
          "data": {
            "text/plain": [
              "<matplotlib.axes._subplots.AxesSubplot at 0x7f53b4e9e630>"
            ]
          },
          "metadata": {
            "tags": []
          },
          "execution_count": 19
        },
        {
          "output_type": "display_data",
          "data": {
            "image/png": "[encoded data removed]",
            "text/plain": [
              "<Figure size 432x288 with 1 Axes>"
            ]
          },
          "metadata": {
            "tags": [],
            "needs_background": "light"
          }
        }
      ]
    },
    {
      "cell_type": "code",
      "metadata": {
        "id": "SLUUTCiTuSic"
      },
      "source": [
        "from sklearn.metrics import classification_report, accuracy_score, average_precision_score"
      ],
      "execution_count": 20,
      "outputs": []
    },
    {
      "cell_type": "code",
      "metadata": {
        "id": "F-t0-QUzubU-",
        "outputId": "c319c5ae-153e-4f08-c4ab-a93bdc87ebf0",
        "colab": {
          "base_uri": "https://localhost:8080/",
          "height": 88
        }
      },
      "source": [
        "predictions = model.predict_classes(X_test)"
      ],
      "execution_count": 21,
      "outputs": [
        {
          "output_type": "stream",
          "text": [
            "WARNING:tensorflow:From <ipython-input-21-bc83193b8b59>:1: Sequential.predict_classes (from tensorflow.python.keras.engine.sequential) is deprecated and will be removed after 2021-01-01.\n",
            "Instructions for updating:\n",
            "Please use instead:* `np.argmax(model.predict(x), axis=-1)`,   if your model does multi-class classification   (e.g. if it uses a `softmax` last-layer activation).* `(model.predict(x) > 0.5).astype(\"int32\")`,   if your model does binary classification   (e.g. if it uses a `sigmoid` last-layer activation).\n"
          ],
          "name": "stdout"
        }
      ]
    },
    {
      "cell_type": "code",
      "metadata": {
        "id": "EsoflCgWvscb",
        "outputId": "8ab7913a-18fa-47e5-e051-3e185c68007d",
        "colab": {
          "base_uri": "https://localhost:8080/",
          "height": 34
        }
      },
      "source": [
        "predictions[1]"
      ],
      "execution_count": 22,
      "outputs": [
        {
          "output_type": "execute_result",
          "data": {
            "text/plain": [
              "18"
            ]
          },
          "metadata": {
            "tags": []
          },
          "execution_count": 22
        }
      ]
    },
    {
      "cell_type": "code",
      "metadata": {
        "id": "_V3EigU4vvfW",
        "outputId": "a3b5a464-8a5d-44ab-f3c0-50f3ee05465b",
        "colab": {
          "base_uri": "https://localhost:8080/",
          "height": 51
        }
      },
      "source": [
        "y_test[1]"
      ],
      "execution_count": 23,
      "outputs": [
        {
          "output_type": "execute_result",
          "data": {
            "text/plain": [
              "array([0., 0., 0., 0., 0., 0., 0., 0., 0., 0., 0., 0., 0., 0., 0., 0., 0.,\n",
              "       0., 1., 0., 0.], dtype=float32)"
            ]
          },
          "metadata": {
            "tags": []
          },
          "execution_count": 23
        }
      ]
    },
    {
      "cell_type": "code",
      "metadata": {
        "id": "F_2Cwo36v3G-",
        "outputId": "42f636c8-441d-49a2-c4b7-4c47638a6068",
        "colab": {
          "base_uri": "https://localhost:8080/",
          "height": 34
        }
      },
      "source": [
        "import numpy as np\n",
        "rounded_labels=np.argmax(y_test, axis=1)\n",
        "rounded_labels[1]"
      ],
      "execution_count": 24,
      "outputs": [
        {
          "output_type": "execute_result",
          "data": {
            "text/plain": [
              "18"
            ]
          },
          "metadata": {
            "tags": []
          },
          "execution_count": 24
        }
      ]
    },
    {
      "cell_type": "code",
      "metadata": {
        "id": "ALzDfOaKujhP",
        "outputId": "3e47cbe9-8308-4455-8664-654c9bfaa18a",
        "colab": {
          "base_uri": "https://localhost:8080/",
          "height": 34
        }
      },
      "source": [
        "print(accuracy_score(rounded_labels,predictions))"
      ],
      "execution_count": 25,
      "outputs": [
        {
          "output_type": "stream",
          "text": [
            "0.41997792494481234\n"
          ],
          "name": "stdout"
        }
      ]
    },
    {
      "cell_type": "code",
      "metadata": {
        "id": "Ex1jpcDJux3O",
        "outputId": "b5ec529c-334f-4f5f-b6d7-a797ab7519bf",
        "colab": {
          "base_uri": "https://localhost:8080/",
          "height": 493
        }
      },
      "source": [
        "print(classification_report(rounded_labels,predictions))"
      ],
      "execution_count": 26,
      "outputs": [
        {
          "output_type": "stream",
          "text": [
            "              precision    recall  f1-score   support\n",
            "\n",
            "           0       0.97      0.89      0.93       429\n",
            "           1       0.46      0.21      0.29       394\n",
            "           2       0.08      0.00      0.00       435\n",
            "           3       0.54      0.51      0.52       423\n",
            "           4       0.89      0.68      0.77       413\n",
            "           5       0.70      0.39      0.50       425\n",
            "           6       0.08      0.02      0.03       429\n",
            "           7       0.20      0.00      0.00       448\n",
            "           8       0.78      0.55      0.65       444\n",
            "           9       0.92      0.74      0.82       428\n",
            "          10       0.09      0.60      0.15       422\n",
            "          11       0.99      0.87      0.93       415\n",
            "          12       0.21      0.29      0.24       434\n",
            "          13       0.57      0.32      0.41       434\n",
            "          14       0.00      0.00      0.00       461\n",
            "          15       0.10      0.31      0.15       425\n",
            "          16       0.23      0.05      0.08       448\n",
            "          17       1.00      0.88      0.94       436\n",
            "          18       0.99      0.88      0.93       450\n",
            "          19       0.78      0.66      0.71       437\n",
            "          20       0.10      0.02      0.03       430\n",
            "\n",
            "    accuracy                           0.42      9060\n",
            "   macro avg       0.51      0.42      0.43      9060\n",
            "weighted avg       0.51      0.42      0.43      9060\n",
            "\n"
          ],
          "name": "stdout"
        }
      ]
    },
    {
      "cell_type": "code",
      "metadata": {
        "id": "KCAZlyhWweNd"
      },
      "source": [
        "from sklearn.metrics import confusion_matrix\n",
        "conf_mst = confusion_matrix(rounded_labels,predictions)\n",
        "from sklearn.metrics import plot_confusion_matrix\n"
      ],
      "execution_count": 31,
      "outputs": []
    },
    {
      "cell_type": "code",
      "metadata": {
        "id": "yaujyZZHy7md"
      },
      "source": [
        "import numpy as np\n",
        "\n",
        "\n",
        "def plot_confusion_matrix(cm,\n",
        "                          target_names,\n",
        "                          title='Confusion matrix',\n",
        "                          cmap=None,\n",
        "                          normalize=True):\n",
        "    \"\"\"\n",
        "    given a sklearn confusion matrix (cm), make a nice plot\n",
        "\n",
        "    Arguments\n",
        "    ---------\n",
        "    cm:           confusion matrix from sklearn.metrics.confusion_matrix\n",
        "\n",
        "    target_names: given classification classes such as [0, 1, 2]\n",
        "                  the class names, for example: ['high', 'medium', 'low']\n",
        "\n",
        "    title:        the text to display at the top of the matrix\n",
        "\n",
        "    cmap:         the gradient of the values displayed from matplotlib.pyplot.cm\n",
        "                  see http://matplotlib.org/examples/color/colormaps_reference.html\n",
        "                  plt.get_cmap('jet') or plt.cm.Blues\n",
        "\n",
        "    normalize:    If False, plot the raw numbers\n",
        "                  If True, plot the proportions\n",
        "\n",
        "    Usage\n",
        "    -----\n",
        "    plot_confusion_matrix(cm           = cm,                  # confusion matrix created by\n",
        "                                                              # sklearn.metrics.confusion_matrix\n",
        "                          normalize    = True,                # show proportions\n",
        "                          target_names = y_labels_vals,       # list of names of the classes\n",
        "                          title        = best_estimator_name) # title of graph\n",
        "\n",
        "    Citiation\n",
        "    ---------\n",
        "    http://scikit-learn.org/stable/auto_examples/model_selection/plot_confusion_matrix.html\n",
        "\n",
        "    \"\"\"\n",
        "    import matplotlib.pyplot as plt\n",
        "    import numpy as np\n",
        "    import itertools\n",
        "\n",
        "    accuracy = np.trace(cm) / float(np.sum(cm))\n",
        "    misclass = 1 - accuracy\n",
        "\n",
        "    if cmap is None:\n",
        "        cmap = plt.get_cmap('Blues')\n",
        "\n",
        "    plt.figure(figsize=(8, 6))\n",
        "    plt.imshow(cm, interpolation='nearest', cmap=cmap)\n",
        "    plt.title(title)\n",
        "    plt.colorbar()\n",
        "\n",
        "    if target_names is not None:\n",
        "        tick_marks = np.arange(len(target_names))\n",
        "        plt.xticks(tick_marks, target_names, rotation=45)\n",
        "        plt.yticks(tick_marks, target_names)\n",
        "\n",
        "    if normalize:\n",
        "        cm = cm.astype('float') / cm.sum(axis=1)[:, np.newaxis]\n",
        "\n",
        "\n",
        "    thresh = cm.max() / 1.5 if normalize else cm.max() / 2\n",
        "    for i, j in itertools.product(range(cm.shape[0]), range(cm.shape[1])):\n",
        "        if normalize:\n",
        "            plt.text(j, i, \"{:0.4f}\".format(cm[i, j]),\n",
        "                     horizontalalignment=\"center\",\n",
        "                     color=\"white\" if cm[i, j] > thresh else \"black\")\n",
        "        else:\n",
        "            plt.text(j, i, \"{:,}\".format(cm[i, j]),\n",
        "                     horizontalalignment=\"center\",\n",
        "                     color=\"white\" if cm[i, j] > thresh else \"black\")\n",
        "\n",
        "\n",
        "    plt.tight_layout()\n",
        "    plt.ylabel('True label')\n",
        "    plt.xlabel('Predicted label\\naccuracy={:0.4f}; misclass={:0.4f}'.format(accuracy, misclass))\n",
        "    plt.show()"
      ],
      "execution_count": 33,
      "outputs": []
    },
    {
      "cell_type": "code",
      "metadata": {
        "id": "ryJOBzBt2QdS",
        "outputId": "0ddc8d27-8624-4b65-fe45-f01f3d12c09e",
        "colab": {
          "base_uri": "https://localhost:8080/",
          "height": 34
        }
      },
      "source": [
        "list_labels = np.arange(22)\n",
        "print(list_labels)"
      ],
      "execution_count": 34,
      "outputs": [
        {
          "output_type": "stream",
          "text": [
            "[ 0  1  2  3  4  5  6  7  8  9 10 11 12 13 14 15 16 17 18 19 20 21]\n"
          ],
          "name": "stdout"
        }
      ]
    },
    {
      "cell_type": "code",
      "metadata": {
        "id": "2MWNaoHk0A33",
        "outputId": "047906d0-fe3b-4905-e441-4f63d8bd0305",
        "colab": {
          "base_uri": "https://localhost:8080/",
          "height": 467
        }
      },
      "source": [
        "plot_confusion_matrix(cm           = conf_mst, \n",
        "                      normalize    = False,\n",
        "                      target_names = list_labels,\n",
        "                      title        = \"Confusion Matrix\")\n"
      ],
      "execution_count": 35,
      "outputs": [
        {
          "output_type": "display_data",
          "data": {
            "image/png": "[encoded data removed]",
            "text/plain": [
              "<Figure size 576x432 with 2 Axes>"
            ]
          },
          "metadata": {
            "tags": [],
            "needs_background": "light"
          }
        }
      ]
    },
    {
      "cell_type": "code",
      "metadata": {
        "id": "HbnXI-9D2x-4"
      },
      "source": [
        ""
      ],
      "execution_count": null,
      "outputs": []
    }
  ]
}