{
 "cells": [
  {
   "cell_type": "markdown",
   "metadata": {},
   "source": [
    "# California Houses Pricing ###\n",
    "\n",
    "This is a notebook exploring various options of using Sci-kit learn, We try to solve a real-world problem of predicting housing price in the US california state.\n",
    "\n",
    "This is a Regression problem { as we are trying to predict a house price }\n",
    "\n",
    "We go through numerous stages, of using Sci-kit learn in this notebook\n",
    "1. Loading the data\n",
    "2. Exploring the data\n",
    "3. Getting insights out of the data\n",
    "4. Data Cleaning\n",
    "5. Working with Categorical data\n",
    "6. Feature Scaling\n",
    "7. Using Pipelines\n",
    "8. Selecting a Train Model\n",
    "9. Using Cross-Validation\n",
    "10. Saving and Loading Model\n",
    "11. Fine-Tuning the Model {Using Grid Search, Randomized Search, Ensemble Methods}\n",
    "12. Evaluation on the Test Set.\n",
    "\n",
    "Lastly, we will also talk about deployment of this Project and also what are the best practices with it.\n"
   ]
  },
  {
   "cell_type": "markdown",
   "metadata": {},
   "source": [
    "# 1. Loading the data"
   ]
  },
  {
   "cell_type": "code",
   "execution_count": 1,
   "metadata": {},
   "outputs": [],
   "source": [
    "\"\"\"\n",
    "Gnerally the data is located in Databases in froms of multiple tables and one needs to set up a user credentials to\n",
    "fetch the data from those tables. But in this project we use a simple approach, we download the data in a tgz form and them\n",
    "decompress it to extract the CSV file.\n",
    "Generally, its a good practice to write a function to do so, as data is updated regularly.\n",
    "Also setting up a scheduling routine to automatically update the database is a good practice\n",
    "\"\"\"\n",
    "import os\n",
    "import tarfile\n",
    "import urllib\n",
    "\n",
    "DOWNLOAD_ROOT = \"http://raw.githubusercontent.com/ageron/handson-ml2/master/\"\n",
    "HOUSING_PATH = os.path.join(\"datasets\", \"housing\")\n",
    "HOUSING_URL = DOWNLOAD_ROOT + \"datasets/housing/housing.tgz\"\n",
    "\n",
    "#function to fetch the data\n",
    "# function creates a local folder named datasets and fetches the data from the given url and extracts all files into it.\n",
    "def fetch_housing_data(housing_url = HOUSING_URL, housing_path = HOUSING_PATH):\n",
    "    os.makedirs(housing_path, exist_ok=True)\n",
    "    tgz_path = os.path.join(housing_path, \"housing.tgz\")\n",
    "    urllib.request.urlretrieve(housing_url, tgz_path)\n",
    "    housing_tgz = tarfile.open(tgz_path)\n",
    "    housing_tgz.extractall(path=housing_path)\n",
    "    housing_tgz.close()"
   ]
  },
  {
   "cell_type": "code",
   "execution_count": 2,
   "metadata": {},
   "outputs": [],
   "source": [
    "# Calling the above function to make the dataset available on the local directory\n",
    "fetch_housing_data()"
   ]
  },
  {
   "cell_type": "code",
   "execution_count": 3,
   "metadata": {},
   "outputs": [],
   "source": [
    "#Lets load the data\n",
    "import pandas as pd\n",
    "import numpy as np\n",
    "# function to load the data\n",
    "def load_housing_data(housing_path= HOUSING_PATH):\n",
    "    csv_path = os.path.join(housing_path, \"housing.csv\")\n",
    "    return pd.read_csv(csv_path)\n",
    "# call the function to load the data\n",
    "housing = load_housing_data()"
   ]
  },
  {
   "cell_type": "code",
   "execution_count": 4,
   "metadata": {},
   "outputs": [
    {
     "name": "stdout",
     "output_type": "stream",
     "text": [
      "<class 'pandas.core.frame.DataFrame'>\n",
      "RangeIndex: 20640 entries, 0 to 20639\n",
      "Data columns (total 10 columns):\n",
      " #   Column              Non-Null Count  Dtype  \n",
      "---  ------              --------------  -----  \n",
      " 0   longitude           20640 non-null  float64\n",
      " 1   latitude            20640 non-null  float64\n",
      " 2   housing_median_age  20640 non-null  float64\n",
      " 3   total_rooms         20640 non-null  float64\n",
      " 4   total_bedrooms      20433 non-null  float64\n",
      " 5   population          20640 non-null  float64\n",
      " 6   households          20640 non-null  float64\n",
      " 7   median_income       20640 non-null  float64\n",
      " 8   median_house_value  20640 non-null  float64\n",
      " 9   ocean_proximity     20640 non-null  object \n",
      "dtypes: float64(9), object(1)\n",
      "memory usage: 1.6+ MB\n"
     ]
    }
   ],
   "source": [
    "# A quick look at the data structure\n",
    "\"\"\"\n",
    "All the rows represent one district, there are 10 attributes all describe the geogrophical conditions of that district.\n",
    "The target column here for us to predict is the \"median_house_value\"\n",
    "\"\"\"\n",
    "# for detailed overview we can use info() and describe() methods\n",
    "housing.info()"
   ]
  },
  {
   "cell_type": "markdown",
   "metadata": {},
   "source": [
    "\"\"\"\n",
    "Now if we take a closer look at the data we can see, that the total_bedrooms column has some missing values, as there\n",
    "are only \"20433\" values in that column. This means 207 districts do not have this feature. Also the ocean_proximity column\n",
    "is a object type. Above we could see that it was an categorical attribute. Lets see the categories that exists and see\n",
    "the value count for each district.\n",
    "\"\"\""
   ]
  },
  {
   "cell_type": "code",
   "execution_count": 5,
   "metadata": {},
   "outputs": [
    {
     "data": {
      "text/plain": [
       "<1H OCEAN     9136\n",
       "INLAND        6551\n",
       "NEAR OCEAN    2658\n",
       "NEAR BAY      2290\n",
       "ISLAND           5\n",
       "Name: ocean_proximity, dtype: int64"
      ]
     },
     "execution_count": 5,
     "metadata": {},
     "output_type": "execute_result"
    }
   ],
   "source": [
    "housing['ocean_proximity'].value_counts()"
   ]
  },
  {
   "cell_type": "code",
   "execution_count": 6,
   "metadata": {},
   "outputs": [
    {
     "data": {
      "text/html": [
       "<div>\n",
       "<style scoped>\n",
       "    .dataframe tbody tr th:only-of-type {\n",
       "        vertical-align: middle;\n",
       "    }\n",
       "\n",
       "    .dataframe tbody tr th {\n",
       "        vertical-align: top;\n",
       "    }\n",
       "\n",
       "    .dataframe thead th {\n",
       "        text-align: right;\n",
       "    }\n",
       "</style>\n",
       "<table border=\"1\" class=\"dataframe\">\n",
       "  <thead>\n",
       "    <tr style=\"text-align: right;\">\n",
       "      <th></th>\n",
       "      <th>longitude</th>\n",
       "      <th>latitude</th>\n",
       "      <th>housing_median_age</th>\n",
       "      <th>total_rooms</th>\n",
       "      <th>total_bedrooms</th>\n",
       "      <th>population</th>\n",
       "      <th>households</th>\n",
       "      <th>median_income</th>\n",
       "      <th>median_house_value</th>\n",
       "    </tr>\n",
       "  </thead>\n",
       "  <tbody>\n",
       "    <tr>\n",
       "      <th>count</th>\n",
       "      <td>20640.000000</td>\n",
       "      <td>20640.000000</td>\n",
       "      <td>20640.000000</td>\n",
       "      <td>20640.000000</td>\n",
       "      <td>20433.000000</td>\n",
       "      <td>20640.000000</td>\n",
       "      <td>20640.000000</td>\n",
       "      <td>20640.000000</td>\n",
       "      <td>20640.000000</td>\n",
       "    </tr>\n",
       "    <tr>\n",
       "      <th>mean</th>\n",
       "      <td>-119.569704</td>\n",
       "      <td>35.631861</td>\n",
       "      <td>28.639486</td>\n",
       "      <td>2635.763081</td>\n",
       "      <td>537.870553</td>\n",
       "      <td>1425.476744</td>\n",
       "      <td>499.539680</td>\n",
       "      <td>3.870671</td>\n",
       "      <td>206855.816909</td>\n",
       "    </tr>\n",
       "    <tr>\n",
       "      <th>std</th>\n",
       "      <td>2.003532</td>\n",
       "      <td>2.135952</td>\n",
       "      <td>12.585558</td>\n",
       "      <td>2181.615252</td>\n",
       "      <td>421.385070</td>\n",
       "      <td>1132.462122</td>\n",
       "      <td>382.329753</td>\n",
       "      <td>1.899822</td>\n",
       "      <td>115395.615874</td>\n",
       "    </tr>\n",
       "    <tr>\n",
       "      <th>min</th>\n",
       "      <td>-124.350000</td>\n",
       "      <td>32.540000</td>\n",
       "      <td>1.000000</td>\n",
       "      <td>2.000000</td>\n",
       "      <td>1.000000</td>\n",
       "      <td>3.000000</td>\n",
       "      <td>1.000000</td>\n",
       "      <td>0.499900</td>\n",
       "      <td>14999.000000</td>\n",
       "    </tr>\n",
       "    <tr>\n",
       "      <th>25%</th>\n",
       "      <td>-121.800000</td>\n",
       "      <td>33.930000</td>\n",
       "      <td>18.000000</td>\n",
       "      <td>1447.750000</td>\n",
       "      <td>296.000000</td>\n",
       "      <td>787.000000</td>\n",
       "      <td>280.000000</td>\n",
       "      <td>2.563400</td>\n",
       "      <td>119600.000000</td>\n",
       "    </tr>\n",
       "    <tr>\n",
       "      <th>50%</th>\n",
       "      <td>-118.490000</td>\n",
       "      <td>34.260000</td>\n",
       "      <td>29.000000</td>\n",
       "      <td>2127.000000</td>\n",
       "      <td>435.000000</td>\n",
       "      <td>1166.000000</td>\n",
       "      <td>409.000000</td>\n",
       "      <td>3.534800</td>\n",
       "      <td>179700.000000</td>\n",
       "    </tr>\n",
       "    <tr>\n",
       "      <th>75%</th>\n",
       "      <td>-118.010000</td>\n",
       "      <td>37.710000</td>\n",
       "      <td>37.000000</td>\n",
       "      <td>3148.000000</td>\n",
       "      <td>647.000000</td>\n",
       "      <td>1725.000000</td>\n",
       "      <td>605.000000</td>\n",
       "      <td>4.743250</td>\n",
       "      <td>264725.000000</td>\n",
       "    </tr>\n",
       "    <tr>\n",
       "      <th>max</th>\n",
       "      <td>-114.310000</td>\n",
       "      <td>41.950000</td>\n",
       "      <td>52.000000</td>\n",
       "      <td>39320.000000</td>\n",
       "      <td>6445.000000</td>\n",
       "      <td>35682.000000</td>\n",
       "      <td>6082.000000</td>\n",
       "      <td>15.000100</td>\n",
       "      <td>500001.000000</td>\n",
       "    </tr>\n",
       "  </tbody>\n",
       "</table>\n",
       "</div>"
      ],
      "text/plain": [
       "          longitude      latitude  housing_median_age   total_rooms  \\\n",
       "count  20640.000000  20640.000000        20640.000000  20640.000000   \n",
       "mean    -119.569704     35.631861           28.639486   2635.763081   \n",
       "std        2.003532      2.135952           12.585558   2181.615252   \n",
       "min     -124.350000     32.540000            1.000000      2.000000   \n",
       "25%     -121.800000     33.930000           18.000000   1447.750000   \n",
       "50%     -118.490000     34.260000           29.000000   2127.000000   \n",
       "75%     -118.010000     37.710000           37.000000   3148.000000   \n",
       "max     -114.310000     41.950000           52.000000  39320.000000   \n",
       "\n",
       "       total_bedrooms    population    households  median_income  \\\n",
       "count    20433.000000  20640.000000  20640.000000   20640.000000   \n",
       "mean       537.870553   1425.476744    499.539680       3.870671   \n",
       "std        421.385070   1132.462122    382.329753       1.899822   \n",
       "min          1.000000      3.000000      1.000000       0.499900   \n",
       "25%        296.000000    787.000000    280.000000       2.563400   \n",
       "50%        435.000000   1166.000000    409.000000       3.534800   \n",
       "75%        647.000000   1725.000000    605.000000       4.743250   \n",
       "max       6445.000000  35682.000000   6082.000000      15.000100   \n",
       "\n",
       "       median_house_value  \n",
       "count        20640.000000  \n",
       "mean        206855.816909  \n",
       "std         115395.615874  \n",
       "min          14999.000000  \n",
       "25%         119600.000000  \n",
       "50%         179700.000000  \n",
       "75%         264725.000000  \n",
       "max         500001.000000  "
      ]
     },
     "execution_count": 6,
     "metadata": {},
     "output_type": "execute_result"
    }
   ],
   "source": [
    "housing.describe()"
   ]
  },
  {
   "cell_type": "markdown",
   "metadata": {},
   "source": [
    "\"\"\"\n",
    "The table above is self explanatory and can give a good feel for what type of data are we dealing with,\n",
    "one way to see the data in detail is plotting a histogram for all the numerical features.\n",
    "Lets explore that feature.\n",
    "\"\"\""
   ]
  },
  {
   "cell_type": "code",
   "execution_count": 7,
   "metadata": {},
   "outputs": [
    {
     "data": {
      "image/png": "[encoded data removed]",
      "text/plain": [
       "<Figure size 1440x1080 with 9 Axes>"
      ]
     },
     "metadata": {
      "needs_background": "light"
     },
     "output_type": "display_data"
    }
   ],
   "source": [
    "%matplotlib inline\n",
    "import matplotlib.pyplot as plt\n",
    "housing.hist(bins=50, figsize=(20,15))\n",
    "plt.show()"
   ]
  },
  {
   "cell_type": "markdown",
   "metadata": {},
   "source": [
    "# 2. Exploring the data"
   ]
  },
  {
   "cell_type": "markdown",
   "metadata": {},
   "source": [
    "\"\"\"\n",
    "There are several insights that we can take out of these histograms, lets look at some of them,\n",
    "1. The median_income attribute is not in USD. The data is actually scaled and capped at 15 as 15.00001 for higher\n",
    "   median incomes and for lower such 0.4999 as 0.5 Which actually means that 3 actually represents $30,000.\n",
    "\n",
    "\n",
    "\n",
    "2. The housing median age and the median house value are also capped. The later may be a problem they are the target values \n",
    "   for our problem. Our algorithm may learn that the house prices do not go beyond that price. Our algorithm should be able    to predict the right prices, even if its above the $500,000. To do so, we have 2 options:\n",
    "   \n",
    "   1. Collect proper labels for the districts whose labels were capped\n",
    "   \n",
    "   \n",
    "   2. Remove those districts from the training set and also from the testset, since it shoud not be evaluated poorly if it       performs poorly in predicting values beyond the upper limit.\n",
    "\n",
    "\n",
    "\n",
    "3. Attributes have different scales, which might cause problems.\n",
    "\n",
    "\n",
    "\n",
    "\n",
    "4. Many Histograms are tail heavy: they extend much farther to the right of the median than to the left. This may make it a    bit difficult for some machine learning algorithms to detect pattern. We will try to create a uniform distribution of      the data \n",
    "\"\"\""
   ]
  },
  {
   "cell_type": "markdown",
   "metadata": {},
   "source": [
    "## Before moving ahead its important to create a test set, a set on which we can test if our machine learning model is predicting correctly or not.\n"
   ]
  },
  {
   "cell_type": "code",
   "execution_count": 8,
   "metadata": {},
   "outputs": [],
   "source": [
    "\" This helps splitting the data, and also provides features to feed in multiple datasets.\"\n",
    "from sklearn.model_selection import train_test_split"
   ]
  },
  {
   "cell_type": "code",
   "execution_count": 9,
   "metadata": {},
   "outputs": [],
   "source": [
    "train_set, test_set = train_test_split(housing, test_size=0.2, random_state=42)"
   ]
  },
  {
   "cell_type": "markdown",
   "metadata": {},
   "source": [
    "## A quick note on Sampling\n",
    "\n",
    "Generally a random sampling is ok if the dataset we work on is comparatively large with correspondance to the number of features present. But when dealing with smaller datasets, its important to look at the sampling as it can tremendously introduce sampling bias into the model.\n",
    "\n",
    "A good example explaining this is introduced in the book \" Hands on Machine Learning\":\n",
    "When a survey company decides to call 1000 people for survey, they just dont pick 1000 random people from a telephone directory. They try to ensure that the 1000 people represent the whole population. For example, in US population in 51.3% females and 48.7% males, so a well conducted survey will try to maintain the same ratio into the survey as well. i.e 513 females and 487 males. This is called \"Stratified Sampling\""
   ]
  },
  {
   "cell_type": "code",
   "execution_count": 10,
   "metadata": {},
   "outputs": [],
   "source": [
    "\"\"\"\n",
    "Based on above example, we have to ensure that there is uniformity in the test data that we test our algorithm on,\n",
    "looking at above histogram its important to understand that the median income category is clustered around 1.5 to 6\n",
    "but some median range goes beyond 6. It is important to have sufficient number of instances in your dataset for each stratum,\n",
    "or else the estimate of stratum importance may be biased.\n",
    "\n",
    "\n",
    "The code below generates an income category attribute with five categories(labeled from 1 to 5), category one ranges from 0 to 1.5,\n",
    "category two ranges from (1.5 to 3) \n",
    "\"\"\"\n",
    "\n",
    "housing['income_cat'] = pd.cut(housing['median_income'], bins=[0.,1.5,3.0,4.5,6.0,np.inf], labels=[1,2,3,4,5])"
   ]
  },
  {
   "cell_type": "code",
   "execution_count": 11,
   "metadata": {},
   "outputs": [
    {
     "data": {
      "text/plain": [
       "<AxesSubplot:>"
      ]
     },
     "execution_count": 11,
     "metadata": {},
     "output_type": "execute_result"
    },
    {
     "data": {
      "image/png": "[encoded data removed]",
      "text/plain": [
       "<Figure size 432x288 with 1 Axes>"
      ]
     },
     "metadata": {
      "needs_background": "light"
     },
     "output_type": "display_data"
    }
   ],
   "source": [
    "housing['income_cat'].hist()"
   ]
  },
  {
   "cell_type": "code",
   "execution_count": 12,
   "metadata": {},
   "outputs": [],
   "source": [
    "# Lets lets do a stratifies shuffling\n",
    "from sklearn.model_selection import StratifiedShuffleSplit\n",
    "\n",
    "split = StratifiedShuffleSplit(n_splits=1, test_size=0.2, random_state=42)\n",
    "for train_index, test_index in split.split(housing, housing['income_cat']):\n",
    "    strat_train_set = housing.loc[train_index]\n",
    "    strat_test_set = housing.loc[test_index]\n",
    "    \n",
    "    "
   ]
  },
  {
   "cell_type": "code",
   "execution_count": 13,
   "metadata": {},
   "outputs": [],
   "source": [
    "# Now the data is accurately sampled, we need to remove the ['income_cat'] column so that the data is in original form\n",
    "for set_ in (strat_train_set, strat_test_set):\n",
    "    set_.drop('income_cat', axis=1, inplace=True)"
   ]
  },
  {
   "cell_type": "markdown",
   "metadata": {},
   "source": [
    "# 3. Getting Insights out of Data\n"
   ]
  },
  {
   "cell_type": "code",
   "execution_count": 14,
   "metadata": {},
   "outputs": [],
   "source": [
    "\"\"\"\n",
    " Its a good habit to create a separate set of data for exploration but in our case the dataset is small and we can work\n",
    " with it as whole\n",
    "\"\"\"\n",
    "housing = strat_train_set.copy() #Creating a copy to keep training data unharmed "
   ]
  },
  {
   "cell_type": "code",
   "execution_count": 15,
   "metadata": {},
   "outputs": [
    {
     "data": {
      "text/plain": [
       "<AxesSubplot:xlabel='longitude', ylabel='latitude'>"
      ]
     },
     "execution_count": 15,
     "metadata": {},
     "output_type": "execute_result"
    },
    {
     "data": {
      "image/png": "[encoded data removed]",
      "text/plain": [
       "<Figure size 432x288 with 1 Axes>"
      ]
     },
     "metadata": {
      "needs_background": "light"
     },
     "output_type": "display_data"
    }
   ],
   "source": [
    "# Visualizing Geaographical Data\n",
    "housing.plot(kind='scatter', x='longitude',y='latitude', alpha=0.1)"
   ]
  },
  {
   "cell_type": "code",
   "execution_count": 16,
   "metadata": {},
   "outputs": [
    {
     "data": {
      "text/plain": [
       "<matplotlib.legend.Legend at 0x1cc88acf908>"
      ]
     },
     "execution_count": 16,
     "metadata": {},
     "output_type": "execute_result"
    },
    {
     "data": {
      "image/png": "[encoded data removed]",
      "text/plain": [
       "<Figure size 720x504 with 2 Axes>"
      ]
     },
     "metadata": {
      "needs_background": "light"
     },
     "output_type": "display_data"
    }
   ],
   "source": [
    "# Now lets create a plot with all the parameter like price, the size and so on\n",
    "housing.plot(kind='scatter', x='longitude',y='latitude', alpha=0.1,\n",
    "            s=housing['population']/100, label='population',figsize=(10,7),\n",
    "            c='median_house_value', cmap=plt.get_cmap('jet'), colorbar=True)\n",
    "plt.legend()"
   ]
  },
  {
   "cell_type": "code",
   "execution_count": 17,
   "metadata": {},
   "outputs": [
    {
     "data": {
      "text/plain": [
       "median_house_value    1.000000\n",
       "median_income         0.687160\n",
       "total_rooms           0.135097\n",
       "housing_median_age    0.114110\n",
       "households            0.064506\n",
       "total_bedrooms        0.047689\n",
       "population           -0.026920\n",
       "longitude            -0.047432\n",
       "latitude             -0.142724\n",
       "Name: median_house_value, dtype: float64"
      ]
     },
     "execution_count": 17,
     "metadata": {},
     "output_type": "execute_result"
    }
   ],
   "source": [
    "\"\"\"\n",
    "Now the exploration tells us that the pricing is generally higher in the coastal areas and in densly populated areas,\n",
    "which in turn is obvious. But in Northen region, the same trend does not follow so its not that obvious.\n",
    "\"\"\"\n",
    "# Looking for Correlations between the Attributes.\n",
    "corr_matrix = housing.corr()\n",
    "\n",
    "corr_matrix['median_house_value'].sort_values(ascending=False)"
   ]
  },
  {
   "cell_type": "code",
   "execution_count": 18,
   "metadata": {},
   "outputs": [
    {
     "data": {
      "text/plain": [
       "<AxesSubplot:xlabel='median_income', ylabel='median_house_value'>"
      ]
     },
     "execution_count": 18,
     "metadata": {},
     "output_type": "execute_result"
    },
    {
     "data": {
      "image/png": "[encoded data removed]",
      "text/plain": [
       "<Figure size 432x288 with 1 Axes>"
      ]
     },
     "metadata": {
      "needs_background": "light"
     },
     "output_type": "display_data"
    }
   ],
   "source": [
    "# One other approach is to plot all the numerical values against eacg other and see the corelation,\n",
    "# Since we have 11 features we will have (11)^2 = 121 plots\n",
    "\"\"\"\n",
    "Looking at the corelation above we can see that the median income has a high corelation with the median_house_value\n",
    "Lets explore that relationship further\n",
    "\"\"\"\n",
    "housing.plot(kind='scatter', x='median_income',y='median_house_value', alpha=0.1)"
   ]
  },
  {
   "cell_type": "markdown",
   "metadata": {},
   "source": [
    "\"\"\"\n",
    "Looking at the graph above we can see that the price cap can be seen at 500,000, but also there are these other straight lines,\n",
    "around 280,000, 350,000, and 450,000. We may want to remove these districts so that our model does not learn to reproduce such \n",
    "patterns.\n",
    "\n",
    "\"\"\""
   ]
  },
  {
   "cell_type": "code",
   "execution_count": 19,
   "metadata": {},
   "outputs": [
    {
     "data": {
      "text/html": [
       "<div>\n",
       "<style scoped>\n",
       "    .dataframe tbody tr th:only-of-type {\n",
       "        vertical-align: middle;\n",
       "    }\n",
       "\n",
       "    .dataframe tbody tr th {\n",
       "        vertical-align: top;\n",
       "    }\n",
       "\n",
       "    .dataframe thead th {\n",
       "        text-align: right;\n",
       "    }\n",
       "</style>\n",
       "<table border=\"1\" class=\"dataframe\">\n",
       "  <thead>\n",
       "    <tr style=\"text-align: right;\">\n",
       "      <th></th>\n",
       "      <th>longitude</th>\n",
       "      <th>latitude</th>\n",
       "      <th>housing_median_age</th>\n",
       "      <th>total_rooms</th>\n",
       "      <th>total_bedrooms</th>\n",
       "      <th>population</th>\n",
       "      <th>households</th>\n",
       "      <th>median_income</th>\n",
       "      <th>median_house_value</th>\n",
       "      <th>ocean_proximity</th>\n",
       "    </tr>\n",
       "  </thead>\n",
       "  <tbody>\n",
       "    <tr>\n",
       "      <th>17606</th>\n",
       "      <td>-121.89</td>\n",
       "      <td>37.29</td>\n",
       "      <td>38.0</td>\n",
       "      <td>1568.0</td>\n",
       "      <td>351.0</td>\n",
       "      <td>710.0</td>\n",
       "      <td>339.0</td>\n",
       "      <td>2.7042</td>\n",
       "      <td>286600.0</td>\n",
       "      <td>&lt;1H OCEAN</td>\n",
       "    </tr>\n",
       "    <tr>\n",
       "      <th>18632</th>\n",
       "      <td>-121.93</td>\n",
       "      <td>37.05</td>\n",
       "      <td>14.0</td>\n",
       "      <td>679.0</td>\n",
       "      <td>108.0</td>\n",
       "      <td>306.0</td>\n",
       "      <td>113.0</td>\n",
       "      <td>6.4214</td>\n",
       "      <td>340600.0</td>\n",
       "      <td>&lt;1H OCEAN</td>\n",
       "    </tr>\n",
       "    <tr>\n",
       "      <th>14650</th>\n",
       "      <td>-117.20</td>\n",
       "      <td>32.77</td>\n",
       "      <td>31.0</td>\n",
       "      <td>1952.0</td>\n",
       "      <td>471.0</td>\n",
       "      <td>936.0</td>\n",
       "      <td>462.0</td>\n",
       "      <td>2.8621</td>\n",
       "      <td>196900.0</td>\n",
       "      <td>NEAR OCEAN</td>\n",
       "    </tr>\n",
       "    <tr>\n",
       "      <th>3230</th>\n",
       "      <td>-119.61</td>\n",
       "      <td>36.31</td>\n",
       "      <td>25.0</td>\n",
       "      <td>1847.0</td>\n",
       "      <td>371.0</td>\n",
       "      <td>1460.0</td>\n",
       "      <td>353.0</td>\n",
       "      <td>1.8839</td>\n",
       "      <td>46300.0</td>\n",
       "      <td>INLAND</td>\n",
       "    </tr>\n",
       "    <tr>\n",
       "      <th>3555</th>\n",
       "      <td>-118.59</td>\n",
       "      <td>34.23</td>\n",
       "      <td>17.0</td>\n",
       "      <td>6592.0</td>\n",
       "      <td>1525.0</td>\n",
       "      <td>4459.0</td>\n",
       "      <td>1463.0</td>\n",
       "      <td>3.0347</td>\n",
       "      <td>254500.0</td>\n",
       "      <td>&lt;1H OCEAN</td>\n",
       "    </tr>\n",
       "  </tbody>\n",
       "</table>\n",
       "</div>"
      ],
      "text/plain": [
       "       longitude  latitude  housing_median_age  total_rooms  total_bedrooms  \\\n",
       "17606    -121.89     37.29                38.0       1568.0           351.0   \n",
       "18632    -121.93     37.05                14.0        679.0           108.0   \n",
       "14650    -117.20     32.77                31.0       1952.0           471.0   \n",
       "3230     -119.61     36.31                25.0       1847.0           371.0   \n",
       "3555     -118.59     34.23                17.0       6592.0          1525.0   \n",
       "\n",
       "       population  households  median_income  median_house_value  \\\n",
       "17606       710.0       339.0         2.7042            286600.0   \n",
       "18632       306.0       113.0         6.4214            340600.0   \n",
       "14650       936.0       462.0         2.8621            196900.0   \n",
       "3230       1460.0       353.0         1.8839             46300.0   \n",
       "3555       4459.0      1463.0         3.0347            254500.0   \n",
       "\n",
       "      ocean_proximity  \n",
       "17606       <1H OCEAN  \n",
       "18632       <1H OCEAN  \n",
       "14650      NEAR OCEAN  \n",
       "3230           INLAND  \n",
       "3555        <1H OCEAN  "
      ]
     },
     "execution_count": 19,
     "metadata": {},
     "output_type": "execute_result"
    }
   ],
   "source": [
    "\"\"\"\n",
    "One approach that we can try to improve the models performance is to add more attributes, i.e. give the model variables,\n",
    "that could help it better to make a correct price prediction.\n",
    "\n",
    "Here are some attributes that we can add, but first lets look at the features we have.\n",
    "\n",
    "1. So the total_rooms in a district does not give us that much insight but total_rooms in a household would be a good feature\n",
    "2. Similarly total_bedrooms per household is better than total_beadrooms in a district\n",
    "3. Household per house is better than household per district.\n",
    "\n",
    "Lets create this features\n",
    "\n",
    "\"\"\"\n",
    "housing.head(5)"
   ]
  },
  {
   "cell_type": "code",
   "execution_count": 20,
   "metadata": {},
   "outputs": [],
   "source": [
    "housing['rooms_per_household'] = housing['total_rooms']/housing['households']\n",
    "housing['bedrooms_per_room'] = housing['total_bedrooms']/housing['total_rooms']\n",
    "housing['population_per_household']= housing['population']/housing['households']"
   ]
  },
  {
   "cell_type": "code",
   "execution_count": 21,
   "metadata": {},
   "outputs": [
    {
     "data": {
      "text/plain": [
       "median_house_value          1.000000\n",
       "median_income               0.687160\n",
       "rooms_per_household         0.146285\n",
       "total_rooms                 0.135097\n",
       "housing_median_age          0.114110\n",
       "households                  0.064506\n",
       "total_bedrooms              0.047689\n",
       "population_per_household   -0.021985\n",
       "population                 -0.026920\n",
       "longitude                  -0.047432\n",
       "latitude                   -0.142724\n",
       "bedrooms_per_room          -0.259984\n",
       "Name: median_house_value, dtype: float64"
      ]
     },
     "execution_count": 21,
     "metadata": {},
     "output_type": "execute_result"
    }
   ],
   "source": [
    "corr_matrix = housing.corr()\n",
    "corr_matrix['median_house_value'].sort_values(ascending=False)"
   ]
  },
  {
   "cell_type": "markdown",
   "metadata": {},
   "source": [
    "## Preparing Data for Machine Learing Algorithm"
   ]
  },
  {
   "cell_type": "code",
   "execution_count": 22,
   "metadata": {},
   "outputs": [],
   "source": [
    "housing = strat_train_set.drop('median_house_value', axis=1)\n",
    "housing_labels = strat_train_set['median_house_value'].copy()"
   ]
  },
  {
   "cell_type": "markdown",
   "metadata": {},
   "source": [
    "# 4. Data Cleaning"
   ]
  },
  {
   "cell_type": "code",
   "execution_count": 23,
   "metadata": {},
   "outputs": [],
   "source": [
    "\"\"\"\n",
    "Most machine learning algorithms cannot work with missing values, so lets create a few functions that can take care \n",
    "of that.\n",
    "We noticed that the total_bedrooms has some missing values.\n",
    "\n",
    "We have 3 ways to deal with this problem:\n",
    "1. Get rid of the corresponding districts\n",
    "2. Get rid of the whole attribute\n",
    "3. Set the values to some value (0, mean, median etc)\n",
    "\"\"\"\n",
    "# Lets use the scikit learn simpleimputer to replace the values using 3rd option\n",
    "from sklearn.impute import SimpleImputer\n",
    "imputer = SimpleImputer(strategy='median')\n",
    "\n",
    "\"\"\"\n",
    "Since the median can be calculated over all numerical attributes , we need to remove the ocean_proximity feature.\n",
    "\"\"\"\n",
    "housing_numerical = housing.drop('ocean_proximity', axis=1)"
   ]
  },
  {
   "cell_type": "code",
   "execution_count": 24,
   "metadata": {},
   "outputs": [],
   "source": [
    "# Lets fit the data into the imputer\n",
    "imputer.fit(housing_numerical)\n",
    "\"\"\"\n",
    "Now when we train the imputer, it calculated median for all the features and saves it in its statistics_ instance as \n",
    "a numpy array.\n",
    "\n",
    "Now lets transform the data by using the trained imputer\n",
    "\"\"\"\n",
    "X = imputer.transform(housing_numerical)\n",
    "\"\"\"\n",
    "The result is a simple numpy array containing tranformed features. Lets put it back into a Dataframe\n",
    "\"\"\"\n",
    "housing_tr = pd.DataFrame(X, columns=housing_numerical.columns, index=housing_numerical.index)"
   ]
  },
  {
   "cell_type": "markdown",
   "metadata": {},
   "source": [
    "# 5. Working with Categorical Data"
   ]
  },
  {
   "cell_type": "code",
   "execution_count": 25,
   "metadata": {},
   "outputs": [
    {
     "data": {
      "text/html": [
       "<div>\n",
       "<style scoped>\n",
       "    .dataframe tbody tr th:only-of-type {\n",
       "        vertical-align: middle;\n",
       "    }\n",
       "\n",
       "    .dataframe tbody tr th {\n",
       "        vertical-align: top;\n",
       "    }\n",
       "\n",
       "    .dataframe thead th {\n",
       "        text-align: right;\n",
       "    }\n",
       "</style>\n",
       "<table border=\"1\" class=\"dataframe\">\n",
       "  <thead>\n",
       "    <tr style=\"text-align: right;\">\n",
       "      <th></th>\n",
       "      <th>ocean_proximity</th>\n",
       "    </tr>\n",
       "  </thead>\n",
       "  <tbody>\n",
       "    <tr>\n",
       "      <th>17606</th>\n",
       "      <td>&lt;1H OCEAN</td>\n",
       "    </tr>\n",
       "    <tr>\n",
       "      <th>18632</th>\n",
       "      <td>&lt;1H OCEAN</td>\n",
       "    </tr>\n",
       "    <tr>\n",
       "      <th>14650</th>\n",
       "      <td>NEAR OCEAN</td>\n",
       "    </tr>\n",
       "    <tr>\n",
       "      <th>3230</th>\n",
       "      <td>INLAND</td>\n",
       "    </tr>\n",
       "    <tr>\n",
       "      <th>3555</th>\n",
       "      <td>&lt;1H OCEAN</td>\n",
       "    </tr>\n",
       "    <tr>\n",
       "      <th>19480</th>\n",
       "      <td>INLAND</td>\n",
       "    </tr>\n",
       "    <tr>\n",
       "      <th>8879</th>\n",
       "      <td>&lt;1H OCEAN</td>\n",
       "    </tr>\n",
       "    <tr>\n",
       "      <th>13685</th>\n",
       "      <td>INLAND</td>\n",
       "    </tr>\n",
       "    <tr>\n",
       "      <th>4937</th>\n",
       "      <td>&lt;1H OCEAN</td>\n",
       "    </tr>\n",
       "    <tr>\n",
       "      <th>4861</th>\n",
       "      <td>&lt;1H OCEAN</td>\n",
       "    </tr>\n",
       "  </tbody>\n",
       "</table>\n",
       "</div>"
      ],
      "text/plain": [
       "      ocean_proximity\n",
       "17606       <1H OCEAN\n",
       "18632       <1H OCEAN\n",
       "14650      NEAR OCEAN\n",
       "3230           INLAND\n",
       "3555        <1H OCEAN\n",
       "19480          INLAND\n",
       "8879        <1H OCEAN\n",
       "13685          INLAND\n",
       "4937        <1H OCEAN\n",
       "4861        <1H OCEAN"
      ]
     },
     "execution_count": 25,
     "metadata": {},
     "output_type": "execute_result"
    }
   ],
   "source": [
    "\"\"\"\n",
    "Most Machine learning Algorithm work with Numeric Data but we have one feature with categorical data,\n",
    "lets take a look at them\n",
    "\"\"\"\n",
    "Categorical_val = housing[['ocean_proximity']]\n",
    "\n",
    "\n",
    "\"\"\"\n",
    "There are limited number of Categories, so we can convert them into numerical values.\n",
    "We have two options to do so.\n",
    "1. OrdinalEncoder\n",
    "2. OneHotEncoder\n",
    "\n",
    "We will work with OneHotEncoder\n",
    "\"\"\"\n",
    "Categorical_val.head(10)"
   ]
  },
  {
   "cell_type": "code",
   "execution_count": 26,
   "metadata": {},
   "outputs": [],
   "source": [
    "from sklearn.preprocessing import OneHotEncoder\n",
    "cat_encoder = OneHotEncoder()\n",
    "housing_cat_1hot = cat_encoder.fit(Categorical_val)"
   ]
  },
  {
   "cell_type": "markdown",
   "metadata": {},
   "source": [
    "## Custom Transformers"
   ]
  },
  {
   "cell_type": "code",
   "execution_count": 27,
   "metadata": {},
   "outputs": [],
   "source": [
    "# Here we write a function which performs the above tasks of adding the attributes."
   ]
  },
  {
   "cell_type": "code",
   "execution_count": 28,
   "metadata": {},
   "outputs": [],
   "source": [
    "from sklearn.base import BaseEstimator, TransformerMixin\n",
    "\n",
    "room_ix, bedroom_ix, population_ix, household_ix = 3,4,5,6\n",
    "\n",
    "class CombinedAttributesAdder(BaseEstimator, TransformerMixin):\n",
    "    def __init__(self, add_bedrooms_per_room = True):\n",
    "        self.add_bedrooms_per_room = add_bedrooms_per_room\n",
    "    def fit(self, X, y=None):\n",
    "        return self\n",
    "    def transform(self, X, y=None):\n",
    "        rooms_per_household = X[:, room_ix]/X[:,household_ix]\n",
    "        population_per_household = X[:,population_ix]/X[:,household_ix]\n",
    "        if self.add_bedrooms_per_room:\n",
    "            bedrooms_per_room = X[:,bedroom_ix]/X[:,room_ix]\n",
    "            return np.c_[X, rooms_per_household, population_per_household, bedrooms_per_room]\n",
    "        else:\n",
    "            return np.c_[X, rooms_per_household, population_per_household]"
   ]
  },
  {
   "cell_type": "markdown",
   "metadata": {},
   "source": [
    "# 6. Feature Scaling"
   ]
  },
  {
   "cell_type": "markdown",
   "metadata": {},
   "source": [
    "\"\"\"\n",
    "One of the most important transformation is the Feature scaling. Machine Learning Algorithms do not work well if the input\n",
    "numerical data is of varying scale. In case of our housing data, the total rooms vary from 6 to 39,320, while the median\n",
    "income only ranges from 0-15.\n",
    "\n",
    "NOTE: Scaling the target values is not generally required.\n",
    "\n",
    "For scaling the features we have two options:\n",
    "1. MinMax Scaler: Also called Normalization, what it does is it rescales and shifts the value to range between 0-1.\n",
    "We do this by subtracting the min value and then dividing by the max - min.\n",
    "\n",
    "2. StandardScaler: This subtracts the mean value and then divides by the Standard deviation. This type of scaling does not \n",
    "let the data get affected by outliers.\n",
    "\n",
    "\"\"\""
   ]
  },
  {
   "cell_type": "markdown",
   "metadata": {},
   "source": [
    "\"\"\"\n",
    "As there are many data transformation steps that need to be executedin the right order. This is where we use Pipelines\n",
    "\"\"\"\n",
    "# 7. Pipelines"
   ]
  },
  {
   "cell_type": "code",
   "execution_count": 29,
   "metadata": {},
   "outputs": [],
   "source": [
    "# Lets write a small pipeline for all the numerical attributed in our dataset\n",
    "from sklearn.pipeline import Pipeline\n",
    "from sklearn.preprocessing import StandardScaler\n",
    "\"\"\"\n",
    "This way we can write a custom pipeline with series of transformation for numerical data, its easier than doing each step\n",
    "individually and also it is helpful when we have new data in the dataset.\n",
    "\"\"\"\n",
    "numerical_pipeline = Pipeline([\n",
    "    ('imputer', SimpleImputer(strategy='median')),\n",
    "    ('attribute_adder', CombinedAttributesAdder()),\n",
    "    ('std_scaler', StandardScaler()),\n",
    "])\n",
    "\n",
    "housing_numerical_transformed = numerical_pipeline.fit_transform(housing_numerical)"
   ]
  },
  {
   "cell_type": "code",
   "execution_count": 30,
   "metadata": {},
   "outputs": [],
   "source": [
    "# Sofar we have handelled the numerical and categorical data separately, but in Sci-kit learn we can work with both together\n",
    "from sklearn.compose import ColumnTransformer\n",
    "\n",
    "num_attributes = list(housing_numerical)\n",
    "cat_attributes = ['ocean_proximity']\n",
    "\n",
    "full_pipeline = ColumnTransformer([\n",
    "    ('num', numerical_pipeline, num_attributes),\n",
    "    ('cat', OneHotEncoder(), cat_attributes),\n",
    "])\n",
    "\n",
    "housing_prepared = full_pipeline.fit_transform(housing)"
   ]
  },
  {
   "cell_type": "markdown",
   "metadata": {},
   "source": [
    "# 8. Select and Train a Model"
   ]
  },
  {
   "cell_type": "code",
   "execution_count": 31,
   "metadata": {},
   "outputs": [
    {
     "data": {
      "text/plain": [
       "LinearRegression()"
      ]
     },
     "execution_count": 31,
     "metadata": {},
     "output_type": "execute_result"
    }
   ],
   "source": [
    "\"\"\"\n",
    "We have framed the problem, cleaned our data and also prepared it to feed it into a machine leaning algorithm, the next step\n",
    "is to select a model and then train it to make predictions!\n",
    "\"\"\"\n",
    "# Lets train a Linear Regression Model First\n",
    "from sklearn.linear_model import LinearRegression\n",
    "\n",
    "lin_reg_model = LinearRegression()\n",
    "lin_reg_model.fit(housing_prepared, housing_labels)"
   ]
  },
  {
   "cell_type": "code",
   "execution_count": 32,
   "metadata": {},
   "outputs": [
    {
     "name": "stdout",
     "output_type": "stream",
     "text": [
      "Predictions:  [210644.60459286 317768.80697211 210956.43331178  59218.98886849\n",
      " 189747.55849879]\n"
     ]
    }
   ],
   "source": [
    "# Now we have a trained Linear Regression model, lets check out on some instances from the training data\n",
    "some_data = housing.iloc[:5]\n",
    "some_labels = housing_labels.iloc[:5]\n",
    "some_data_prepared = full_pipeline.transform(some_data)\n",
    "print('Predictions: ', lin_reg_model.predict(some_data_prepared))"
   ]
  },
  {
   "cell_type": "code",
   "execution_count": 33,
   "metadata": {},
   "outputs": [
    {
     "data": {
      "text/plain": [
       "68628.19819848923"
      ]
     },
     "execution_count": 33,
     "metadata": {},
     "output_type": "execute_result"
    }
   ],
   "source": [
    "# Lets observe the metrics\n",
    "from sklearn.metrics import mean_squared_error\n",
    "housing_predictions = lin_reg_model.predict(housing_prepared)\n",
    "lin_mse = mean_squared_error(housing_labels, housing_predictions)\n",
    "lin_rmse = np.sqrt(lin_mse)\n",
    "lin_rmse"
   ]
  },
  {
   "cell_type": "markdown",
   "metadata": {},
   "source": [
    "The median housing prices range from 120,000$  to 265,000$ and an error of 68,628$ is not very satisfying.\n",
    "The problem we have here is a model underfitting the training data.\n",
    "\n",
    "Reasons for Underfitting:\n",
    "\n",
    "1. The features do not provide enough information for the model to make the right predictions, or that the model is not powerful enough.\n",
    "\n",
    "How to solve the Underfitting problem\n",
    "\n",
    "1. Try adding more features (eg. Logarithm of the features )\n",
    "2. Try to reduce the constrains of the model\n",
    "3. Try a more complex model\n"
   ]
  },
  {
   "cell_type": "code",
   "execution_count": 34,
   "metadata": {},
   "outputs": [
    {
     "data": {
      "text/plain": [
       "DecisionTreeRegressor()"
      ]
     },
     "execution_count": 34,
     "metadata": {},
     "output_type": "execute_result"
    }
   ],
   "source": [
    "# Lets train a more complex model which is capable of learing more non-linear features in the data\n",
    "from sklearn.tree import DecisionTreeRegressor\n",
    "\n",
    "tree_regressor_model = DecisionTreeRegressor()\n",
    "tree_regressor_model.fit(housing_prepared, housing_labels)"
   ]
  },
  {
   "cell_type": "code",
   "execution_count": 35,
   "metadata": {},
   "outputs": [
    {
     "data": {
      "text/plain": [
       "0.0"
      ]
     },
     "execution_count": 35,
     "metadata": {},
     "output_type": "execute_result"
    }
   ],
   "source": [
    "# Now we have a trained DecisionTressRegressor model, lets check its performance on the training data\n",
    "\n",
    "housing_predictions_by_tree = tree_regressor_model.predict(housing_prepared)\n",
    "tree_mse = mean_squared_error(housing_labels, housing_predictions_by_tree)\n",
    "tree_rmse = np.sqrt(tree_mse)\n",
    "tree_rmse"
   ]
  },
  {
   "cell_type": "markdown",
   "metadata": {},
   "source": [
    "Well 0.0 Error that seems like a perfect model isn't it but it isn't. Ofcourse it can be true but its also possible that the model badly ovefit the training data.\n",
    "\n",
    "We cannot test the model until we are sure about the model, so we need a part of trainig set to validate the model,\n",
    "this part is called the \"Validation Set\"\n",
    "\n",
    "A great way to do this is use Sklearns's \"K-Fold\" method.\n",
    "The following code splits the training data into 10 splits called folds, then it trains and evaluates the model 10 times, picking a different fold to evaluate everytime and train on the other 9\n"
   ]
  },
  {
   "cell_type": "markdown",
   "metadata": {},
   "source": [
    "# 9. Using Cross-Validation "
   ]
  },
  {
   "cell_type": "code",
   "execution_count": 36,
   "metadata": {},
   "outputs": [],
   "source": [
    "from sklearn.model_selection import cross_val_score\n",
    "scores = cross_val_score(tree_regressor_model, housing_prepared, housing_labels, scoring='neg_mean_squared_error', cv=10)\n",
    "tree_rmse_scores = np.sqrt(-scores)"
   ]
  },
  {
   "cell_type": "code",
   "execution_count": 37,
   "metadata": {},
   "outputs": [],
   "source": [
    "# Lets write a fuunction to display the scores\n",
    "def display_scores(scores):\n",
    "    print('Scores: ', scores)\n",
    "    print('Mean of Scores', scores.mean())\n",
    "    print('Std of Scores', scores.std())\n",
    "    "
   ]
  },
  {
   "cell_type": "code",
   "execution_count": 38,
   "metadata": {},
   "outputs": [
    {
     "name": "stdout",
     "output_type": "stream",
     "text": [
      "Scores:  [68274.37245716 64865.27660749 69500.25622036 68199.07824574\n",
      " 69656.7000454  74774.92626611 70702.84022089 70721.67396854\n",
      " 76383.69728672 70543.5522029 ]\n",
      "Mean of Scores 70362.23735213144\n",
      "Std of Scores 3106.5043408297092\n"
     ]
    }
   ],
   "source": [
    "display_scores(tree_rmse_scores)"
   ]
  },
  {
   "cell_type": "code",
   "execution_count": 39,
   "metadata": {},
   "outputs": [
    {
     "name": "stdout",
     "output_type": "stream",
     "text": [
      "Scores:  [66782.73843989 66960.118071   70347.95244419 74739.57052552\n",
      " 68031.13388938 71193.84183426 64969.63056405 68281.61137997\n",
      " 71552.91566558 67665.10082067]\n",
      "Mean of Scores 69052.46136345083\n",
      "Std of Scores 2731.6740017983493\n"
     ]
    }
   ],
   "source": [
    "\"\"\"\n",
    "If we see the scores we can observe that the DecisionTree model performed worse than the Linear Model.\n",
    "The decision tree is badly overfitting the data.\n",
    "Lets use Cross Validation on the Linear model\n",
    "\"\"\"\n",
    "lin_model_scores = cross_val_score(lin_reg_model, housing_prepared, housing_labels,\n",
    "                                  scoring='neg_mean_squared_error', cv=10)\n",
    "lin_model_rmse_scores = np.sqrt(-lin_model_scores)\n",
    "display_scores(lin_model_rmse_scores)"
   ]
  },
  {
   "cell_type": "code",
   "execution_count": 40,
   "metadata": {},
   "outputs": [
    {
     "data": {
      "text/plain": [
       "RandomForestRegressor()"
      ]
     },
     "execution_count": 40,
     "metadata": {},
     "output_type": "execute_result"
    }
   ],
   "source": [
    "\"\"\"\n",
    "Well definately the Linear regression is better than the Decision Tree but its still bad to be used.\n",
    "\n",
    "Lets try one other model, RandomForestRegressor.\n",
    "What this Algorithm does is it trains numerous Decision Tress on random subsets of the features, then averaging out predictions\n",
    "\n",
    "\"\"\"\n",
    "from sklearn.ensemble import RandomForestRegressor\n",
    "forest_reg_model = RandomForestRegressor()\n",
    "forest_reg_model.fit(housing_prepared, housing_labels)"
   ]
  },
  {
   "cell_type": "code",
   "execution_count": 41,
   "metadata": {},
   "outputs": [
    {
     "name": "stdout",
     "output_type": "stream",
     "text": [
      "Scores:  [49764.32171312 47563.02003095 49778.53060685 52225.13288484\n",
      " 49546.17608728 53314.35953564 48576.70250281 48411.03114021\n",
      " 53149.37699035 50902.51004585]\n",
      "Mean of Scores 50323.11615378862\n",
      "Std of Scores 1908.5406223536613\n"
     ]
    }
   ],
   "source": [
    "# Now that we have the model trained, lets check its performance using Kfolds\n",
    "forest_reg_model_scores = cross_val_score(forest_reg_model, housing_prepared, housing_labels,\n",
    "                                         scoring='neg_mean_squared_error', cv=10)\n",
    "forest_reg_model_rmse_scores = np.sqrt(-forest_reg_model_scores)\n",
    "display_scores(forest_reg_model_rmse_scores)"
   ]
  },
  {
   "cell_type": "markdown",
   "metadata": {},
   "source": [
    "# 10. Saving and Loading Model"
   ]
  },
  {
   "cell_type": "code",
   "execution_count": 42,
   "metadata": {},
   "outputs": [
    {
     "data": {
      "text/plain": [
       "['Random_reg_model.pkl']"
      ]
     },
     "execution_count": 42,
     "metadata": {},
     "output_type": "execute_result"
    }
   ],
   "source": [
    "\"\"\"\n",
    "Well this model is performing better than the other two, but still is slightly overfitting. We can tell that by noticing the \n",
    "score on the training data and on the validation data. The scores here are lower on the training set ,whereas higher on the \n",
    "validation set.\n",
    "\"\"\"\n",
    "# Lets us save the Random Forest Regressor Model so that we could come back to it later and tune it to perform better\n",
    "import joblib\n",
    "joblib.dump(forest_reg_model, 'Random_reg_model.pkl')"
   ]
  },
  {
   "cell_type": "code",
   "execution_count": 43,
   "metadata": {},
   "outputs": [],
   "source": [
    "# Loading the model\n",
    "\n",
    "forest_reg_model = joblib.load('Random_reg_model.pkl')"
   ]
  },
  {
   "cell_type": "markdown",
   "metadata": {},
   "source": [
    "# 11. Fine Tune the Model\n"
   ]
  },
  {
   "cell_type": "code",
   "execution_count": 44,
   "metadata": {},
   "outputs": [],
   "source": [
    "\"\"\"\n",
    "One of the option is to try out numerous parameters and find the best one. But it can be time consuming and also very\n",
    "tedious. One option is to explore using GridSearchCV\n",
    "\"\"\"\n",
    "\"\"\"\n",
    "What GridSearchCV expects is a list of hyperparameters, that you want the system to test. It will test the combinations\n",
    "using the Cross-Validation and give out the best parameters.\n",
    "\n",
    "\"\"\"\n",
    "from sklearn.model_selection import GridSearchCV\n",
    "\n",
    "param_grid = [\n",
    "    {'n_estimators': [3, 10, 30], 'max_features': [2,4,6,8]},\n",
    "    {'bootstrap': [False], 'n_estimators': [3, 10], 'max_features': [2, 3, 4]},\n",
    "    \n",
    "]"
   ]
  },
  {
   "cell_type": "code",
   "execution_count": 45,
   "metadata": {},
   "outputs": [],
   "source": [
    "forest_regressor = RandomForestRegressor()\n",
    "\n",
    "grid_search = GridSearchCV(forest_regressor, param_grid, cv=5,\n",
    "                          scoring='neg_mean_squared_error', return_train_score=True)"
   ]
  },
  {
   "cell_type": "code",
   "execution_count": 46,
   "metadata": {},
   "outputs": [
    {
     "data": {
      "text/plain": [
       "GridSearchCV(cv=5, estimator=RandomForestRegressor(),\n",
       "             param_grid=[{'max_features': [2, 4, 6, 8],\n",
       "                          'n_estimators': [3, 10, 30]},\n",
       "                         {'bootstrap': [False], 'max_features': [2, 3, 4],\n",
       "                          'n_estimators': [3, 10]}],\n",
       "             return_train_score=True, scoring='neg_mean_squared_error')"
      ]
     },
     "execution_count": 46,
     "metadata": {},
     "output_type": "execute_result"
    }
   ],
   "source": [
    "grid_search.fit(housing_prepared, housing_labels)"
   ]
  },
  {
   "cell_type": "code",
   "execution_count": 47,
   "metadata": {},
   "outputs": [
    {
     "data": {
      "text/plain": [
       "{'max_features': 8, 'n_estimators': 30}"
      ]
     },
     "execution_count": 47,
     "metadata": {},
     "output_type": "execute_result"
    }
   ],
   "source": [
    "# now to check which parameter was the best \n",
    "grid_search.best_params_\n",
    "\n",
    "# We can see that the best parameters are the max one that we gave in so we could try others as well as there might be room\n",
    "# for improvement"
   ]
  },
  {
   "cell_type": "code",
   "execution_count": 48,
   "metadata": {},
   "outputs": [
    {
     "data": {
      "text/plain": [
       "RandomForestRegressor(max_features=8, n_estimators=30)"
      ]
     },
     "execution_count": 48,
     "metadata": {},
     "output_type": "execute_result"
    }
   ],
   "source": [
    "# We can also obtain the best estimator direcrtly\n",
    "grid_search.best_estimator_"
   ]
  },
  {
   "cell_type": "code",
   "execution_count": 49,
   "metadata": {},
   "outputs": [
    {
     "name": "stdout",
     "output_type": "stream",
     "text": [
      "64044.47452158328 {'max_features': 2, 'n_estimators': 3}\n",
      "55240.849772797366 {'max_features': 2, 'n_estimators': 10}\n",
      "52721.58708664202 {'max_features': 2, 'n_estimators': 30}\n",
      "60405.041871328795 {'max_features': 4, 'n_estimators': 3}\n",
      "53078.438384736386 {'max_features': 4, 'n_estimators': 10}\n",
      "50683.25850191375 {'max_features': 4, 'n_estimators': 30}\n",
      "59262.964858258274 {'max_features': 6, 'n_estimators': 3}\n",
      "52367.19556147397 {'max_features': 6, 'n_estimators': 10}\n",
      "50212.84450509585 {'max_features': 6, 'n_estimators': 30}\n",
      "58629.802623722346 {'max_features': 8, 'n_estimators': 3}\n",
      "52622.84805203836 {'max_features': 8, 'n_estimators': 10}\n",
      "49994.229477669774 {'max_features': 8, 'n_estimators': 30}\n",
      "62487.678283301364 {'bootstrap': False, 'max_features': 2, 'n_estimators': 3}\n",
      "54209.173841023156 {'bootstrap': False, 'max_features': 2, 'n_estimators': 10}\n",
      "60180.41125721707 {'bootstrap': False, 'max_features': 3, 'n_estimators': 3}\n",
      "53094.758124997876 {'bootstrap': False, 'max_features': 3, 'n_estimators': 10}\n",
      "59012.75284034266 {'bootstrap': False, 'max_features': 4, 'n_estimators': 3}\n",
      "52106.64772639561 {'bootstrap': False, 'max_features': 4, 'n_estimators': 10}\n"
     ]
    }
   ],
   "source": [
    "#  The evaluations scores can also be seen directly\n",
    "cvres = grid_search.cv_results_\n",
    "for mean_scores, params in zip(cvres['mean_test_score'], cvres['params']):\n",
    "    print(np.sqrt(-mean_scores), params)"
   ]
  },
  {
   "cell_type": "markdown",
   "metadata": {},
   "source": [
    "Now we can see that we were able to fine tune the model by finding the best parameters. The value by default parameters was \"50,182\" but after fine tuning the model with the best parameters we have the rmse values of 49,885.\n",
    "This is one of the steps we can use when we have certain specified number of hypermeters we want to try, but what if there are numerous values of hyperparameters and we want to look for their values. \n",
    "\n",
    "Another approach to fine tune your model by finding the best estimators is using\n",
    "### Randomized Search\n"
   ]
  },
  {
   "cell_type": "code",
   "execution_count": 50,
   "metadata": {},
   "outputs": [
    {
     "data": {
      "text/plain": [
       "RandomizedSearchCV(cv=5, estimator=RandomForestRegressor(random_state=42),\n",
       "                   param_distributions={'max_features': <scipy.stats._distn_infrastructure.rv_frozen object at 0x000001CC8F08F388>,\n",
       "                                        'n_estimators': <scipy.stats._distn_infrastructure.rv_frozen object at 0x000001CC8F08FE08>},\n",
       "                   random_state=42, scoring='neg_mean_squared_error')"
      ]
     },
     "execution_count": 50,
     "metadata": {},
     "output_type": "execute_result"
    }
   ],
   "source": [
    "from sklearn.model_selection import RandomizedSearchCV\n",
    "from scipy.stats import randint\n",
    "\n",
    "param_dist = {\n",
    "    'n_estimators': randint(low=1, high=200),\n",
    "    'max_features': randint(low=1, high=8),\n",
    "}\n",
    "\n",
    "forest_reg = RandomForestRegressor(random_state=42)\n",
    "random_search = RandomizedSearchCV(forest_reg, param_distributions=param_dist,\n",
    "                                  n_iter=10, cv=5, scoring='neg_mean_squared_error',\n",
    "                                  random_state=42)\n",
    "random_search.fit(housing_prepared, housing_labels)"
   ]
  },
  {
   "cell_type": "markdown",
   "metadata": {},
   "source": [
    "The advantage of this method are following:\n",
    "\n",
    "1. If we let the randomized search run for say 1000 iterations, this approach will explore 1000 different values for each hyperparameter.\n",
    "\n",
    "2. Simply by providig number of iterations we have more control over the computing we want to allocate to the hyperparameter."
   ]
  },
  {
   "cell_type": "markdown",
   "metadata": {},
   "source": [
    "### Analyze the best models and their Errors\n",
    "We often get good insights about the problem by evaluating the best model,\n",
    "\n",
    "for example for our RandomRegressor model we can see which feature is more important in order to make the right predictions\n"
   ]
  },
  {
   "cell_type": "code",
   "execution_count": 52,
   "metadata": {},
   "outputs": [
    {
     "data": {
      "text/plain": [
       "[(0.3761774900108524, 'median_income'),\n",
       " (0.1525620599543038, 'INLAND'),\n",
       " (0.11318374156078895, 'popul_per_household'),\n",
       " (0.07314628031033907, 'longitude'),\n",
       " (0.06354108655432927, 'latitude'),\n",
       " (0.05864831635693453, 'bedrooms_per_room'),\n",
       " (0.05096067754052124, 'rooms_per_hold'),\n",
       " (0.0413678922510184, 'housing_median_age'),\n",
       " (0.015047552925857816, 'population'),\n",
       " (0.014723385237897563, 'total_rooms'),\n",
       " (0.014533658716886977, 'households'),\n",
       " (0.01419176729914625, 'total_bedrooms'),\n",
       " (0.005936623783787073, '<1H OCEAN'),\n",
       " (0.0029959717448245536, 'NEAR BAY'),\n",
       " (0.0029060137346972052, 'NEAR OCEAN'),\n",
       " (7.748201781495871e-05, 'ISLAND')]"
      ]
     },
     "execution_count": 52,
     "metadata": {},
     "output_type": "execute_result"
    }
   ],
   "source": [
    "feature_importance = grid_search.best_estimator_.feature_importances_\n",
    "# Lets show the following feature importance\n",
    "extra_attributes = ['rooms_per_hold','popul_per_household','bedrooms_per_room']\n",
    "cat_encoder = full_pipeline.named_transformers_['cat']\n",
    "cat_one_hot_attribs = list(cat_encoder.categories_[0])\n",
    "attributes = num_attributes + extra_attributes + cat_one_hot_attribs\n",
    "sorted(zip(feature_importance, attributes), reverse=True)"
   ]
  },
  {
   "cell_type": "markdown",
   "metadata": {},
   "source": [
    "As we can see, that the most important feature is the \"median_income\" feature. We can also drop numerous features such as \n",
    "options from \"Ocean_proximity\". Only one of that feature is actually helping the model."
   ]
  },
  {
   "cell_type": "markdown",
   "metadata": {},
   "source": [
    "# 12. Evaluation on Test Data"
   ]
  },
  {
   "cell_type": "code",
   "execution_count": 53,
   "metadata": {},
   "outputs": [],
   "source": [
    "final_model = grid_search.best_estimator_\n",
    "\n",
    "X_test = strat_test_set.drop('median_house_value', axis=1)\n",
    "y_test = strat_test_set['median_house_value'].copy()\n",
    "\n",
    "X_test_prepared = full_pipeline.transform(X_test)\n",
    "final_predictions = final_model.predict(X_test_prepared)\n",
    "\n",
    "final_mse = mean_squared_error(y_test, final_predictions)\n",
    "final_rmse = np.sqrt(final_mse)"
   ]
  },
  {
   "cell_type": "code",
   "execution_count": 54,
   "metadata": {},
   "outputs": [
    {
     "data": {
      "text/plain": [
       "47619.42174643401"
      ]
     },
     "execution_count": 54,
     "metadata": {},
     "output_type": "execute_result"
    }
   ],
   "source": [
    "final_rmse"
   ]
  },
  {
   "cell_type": "markdown",
   "metadata": {},
   "source": [
    "# A complete pipeline with both preparation and prediction\n",
    "\n"
   ]
  },
  {
   "cell_type": "code",
   "execution_count": 55,
   "metadata": {},
   "outputs": [
    {
     "data": {
      "text/plain": [
       "array([260994.  , 324831.02, 214403.  ,  52460.  , 235596.  ])"
      ]
     },
     "execution_count": 55,
     "metadata": {},
     "output_type": "execute_result"
    }
   ],
   "source": [
    "full_pipeline_with_predictor = Pipeline([\n",
    "    ('preparation', full_pipeline),\n",
    "    ('RandomRegressor',RandomForestRegressor())\n",
    "])\n",
    "\n",
    "full_pipeline_with_predictor.fit(housing, housing_labels)\n",
    "full_pipeline_with_predictor.predict(some_data)"
   ]
  },
  {
   "cell_type": "markdown",
   "metadata": {},
   "source": [
    "# Model Persistance"
   ]
  },
  {
   "cell_type": "code",
   "execution_count": 56,
   "metadata": {},
   "outputs": [
    {
     "data": {
      "text/plain": [
       "['my_final_predicting_model.pkl']"
      ]
     },
     "execution_count": 56,
     "metadata": {},
     "output_type": "execute_result"
    }
   ],
   "source": [
    "my_model = full_pipeline_with_predictor\n",
    "\n",
    "joblib.dump(my_model, \"my_final_predicting_model.pkl\")"
   ]
  },
  {
   "cell_type": "code",
   "execution_count": null,
   "metadata": {},
   "outputs": [],
   "source": []
  }
 ],
 "metadata": {
  "kernelspec": {
   "display_name": "Python 3",
   "language": "python",
   "name": "python3"
  },
  "language_info": {
   "codemirror_mode": {
    "name": "ipython",
    "version": 3
   },
   "file_extension": ".py",
   "mimetype": "text/x-python",
   "name": "python",
   "nbconvert_exporter": "python",
   "pygments_lexer": "ipython3",
   "version": "3.7.9"
  }
 },
 "nbformat": 4,
 "nbformat_minor": 4
}
