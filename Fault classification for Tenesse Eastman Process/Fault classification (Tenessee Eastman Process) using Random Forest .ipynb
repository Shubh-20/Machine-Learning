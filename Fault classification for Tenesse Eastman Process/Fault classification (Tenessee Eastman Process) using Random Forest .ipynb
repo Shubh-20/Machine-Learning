{
 "cells": [
  {
   "cell_type": "code",
   "execution_count": 1,
   "metadata": {},
   "outputs": [],
   "source": [
    "import pandas as pd\n",
    "\n"
   ]
  },
  {
   "cell_type": "code",
   "execution_count": 2,
   "metadata": {},
   "outputs": [],
   "source": [
    "training_data = pd.read_pickle('Dataframe_for_faults.pkl')\n",
    "testing_data = pd.read_pickle('Testing_Dataframe_for_faults.pkl')"
   ]
  },
  {
   "cell_type": "code",
   "execution_count": 3,
   "metadata": {},
   "outputs": [
    {
     "data": {
      "text/html": [
       "<div>\n",
       "<style scoped>\n",
       "    .dataframe tbody tr th:only-of-type {\n",
       "        vertical-align: middle;\n",
       "    }\n",
       "\n",
       "    .dataframe tbody tr th {\n",
       "        vertical-align: top;\n",
       "    }\n",
       "\n",
       "    .dataframe thead th {\n",
       "        text-align: right;\n",
       "    }\n",
       "</style>\n",
       "<table border=\"1\" class=\"dataframe\">\n",
       "  <thead>\n",
       "    <tr style=\"text-align: right;\">\n",
       "      <th></th>\n",
       "      <th>Var1</th>\n",
       "      <th>Var2</th>\n",
       "      <th>Var3</th>\n",
       "      <th>Var4</th>\n",
       "      <th>Var5</th>\n",
       "      <th>Var6</th>\n",
       "      <th>Var7</th>\n",
       "      <th>Var8</th>\n",
       "      <th>Var9</th>\n",
       "      <th>Var10</th>\n",
       "      <th>...</th>\n",
       "      <th>Var44</th>\n",
       "      <th>Var45</th>\n",
       "      <th>Var46</th>\n",
       "      <th>Var47</th>\n",
       "      <th>Var48</th>\n",
       "      <th>Var49</th>\n",
       "      <th>Var50</th>\n",
       "      <th>Var51</th>\n",
       "      <th>Var52</th>\n",
       "      <th>Fault Type</th>\n",
       "    </tr>\n",
       "  </thead>\n",
       "  <tbody>\n",
       "    <tr>\n",
       "      <th>474</th>\n",
       "      <td>0.170</td>\n",
       "      <td>0.564103</td>\n",
       "      <td>0.587719</td>\n",
       "      <td>0.441624</td>\n",
       "      <td>0.666667</td>\n",
       "      <td>0.400000</td>\n",
       "      <td>0.404255</td>\n",
       "      <td>0.694118</td>\n",
       "      <td>0.0</td>\n",
       "      <td>0.227348</td>\n",
       "      <td>...</td>\n",
       "      <td>0.166106</td>\n",
       "      <td>0.222892</td>\n",
       "      <td>0.560390</td>\n",
       "      <td>0.400426</td>\n",
       "      <td>0.454148</td>\n",
       "      <td>0.664596</td>\n",
       "      <td>0.575079</td>\n",
       "      <td>0.416104</td>\n",
       "      <td>0.155361</td>\n",
       "      <td>21</td>\n",
       "    </tr>\n",
       "    <tr>\n",
       "      <th>475</th>\n",
       "      <td>0.232</td>\n",
       "      <td>0.564103</td>\n",
       "      <td>0.578947</td>\n",
       "      <td>0.439086</td>\n",
       "      <td>0.583333</td>\n",
       "      <td>0.571429</td>\n",
       "      <td>0.404255</td>\n",
       "      <td>0.735294</td>\n",
       "      <td>0.0</td>\n",
       "      <td>0.255354</td>\n",
       "      <td>...</td>\n",
       "      <td>0.227098</td>\n",
       "      <td>0.222892</td>\n",
       "      <td>0.550621</td>\n",
       "      <td>0.433440</td>\n",
       "      <td>0.366812</td>\n",
       "      <td>0.447205</td>\n",
       "      <td>0.575079</td>\n",
       "      <td>0.409105</td>\n",
       "      <td>0.091904</td>\n",
       "      <td>21</td>\n",
       "    </tr>\n",
       "    <tr>\n",
       "      <th>476</th>\n",
       "      <td>0.230</td>\n",
       "      <td>0.615385</td>\n",
       "      <td>0.587719</td>\n",
       "      <td>0.464467</td>\n",
       "      <td>0.541667</td>\n",
       "      <td>0.514286</td>\n",
       "      <td>0.404255</td>\n",
       "      <td>0.705882</td>\n",
       "      <td>0.0</td>\n",
       "      <td>0.255354</td>\n",
       "      <td>...</td>\n",
       "      <td>0.229098</td>\n",
       "      <td>0.222892</td>\n",
       "      <td>0.540852</td>\n",
       "      <td>0.432375</td>\n",
       "      <td>0.441048</td>\n",
       "      <td>0.347826</td>\n",
       "      <td>0.577074</td>\n",
       "      <td>0.412105</td>\n",
       "      <td>0.140044</td>\n",
       "      <td>21</td>\n",
       "    </tr>\n",
       "    <tr>\n",
       "      <th>477</th>\n",
       "      <td>0.243</td>\n",
       "      <td>0.589744</td>\n",
       "      <td>0.543860</td>\n",
       "      <td>0.464467</td>\n",
       "      <td>0.666667</td>\n",
       "      <td>0.400000</td>\n",
       "      <td>0.404255</td>\n",
       "      <td>0.700000</td>\n",
       "      <td>0.0</td>\n",
       "      <td>0.250412</td>\n",
       "      <td>...</td>\n",
       "      <td>0.236097</td>\n",
       "      <td>0.222892</td>\n",
       "      <td>0.550621</td>\n",
       "      <td>0.432375</td>\n",
       "      <td>0.672489</td>\n",
       "      <td>0.478261</td>\n",
       "      <td>0.575079</td>\n",
       "      <td>0.412105</td>\n",
       "      <td>0.166302</td>\n",
       "      <td>21</td>\n",
       "    </tr>\n",
       "    <tr>\n",
       "      <th>478</th>\n",
       "      <td>0.240</td>\n",
       "      <td>0.538462</td>\n",
       "      <td>0.552632</td>\n",
       "      <td>0.451777</td>\n",
       "      <td>0.541667</td>\n",
       "      <td>0.457143</td>\n",
       "      <td>0.404255</td>\n",
       "      <td>0.688235</td>\n",
       "      <td>0.0</td>\n",
       "      <td>0.257002</td>\n",
       "      <td>...</td>\n",
       "      <td>0.239097</td>\n",
       "      <td>0.222892</td>\n",
       "      <td>0.545737</td>\n",
       "      <td>0.427050</td>\n",
       "      <td>0.576419</td>\n",
       "      <td>0.621118</td>\n",
       "      <td>0.573084</td>\n",
       "      <td>0.407106</td>\n",
       "      <td>0.118162</td>\n",
       "      <td>21</td>\n",
       "    </tr>\n",
       "  </tbody>\n",
       "</table>\n",
       "<p>5 rows × 53 columns</p>\n",
       "</div>"
      ],
      "text/plain": [
       "      Var1      Var2      Var3      Var4      Var5      Var6      Var7  \\\n",
       "474  0.170  0.564103  0.587719  0.441624  0.666667  0.400000  0.404255   \n",
       "475  0.232  0.564103  0.578947  0.439086  0.583333  0.571429  0.404255   \n",
       "476  0.230  0.615385  0.587719  0.464467  0.541667  0.514286  0.404255   \n",
       "477  0.243  0.589744  0.543860  0.464467  0.666667  0.400000  0.404255   \n",
       "478  0.240  0.538462  0.552632  0.451777  0.541667  0.457143  0.404255   \n",
       "\n",
       "         Var8  Var9     Var10  ...     Var44     Var45     Var46     Var47  \\\n",
       "474  0.694118   0.0  0.227348  ...  0.166106  0.222892  0.560390  0.400426   \n",
       "475  0.735294   0.0  0.255354  ...  0.227098  0.222892  0.550621  0.433440   \n",
       "476  0.705882   0.0  0.255354  ...  0.229098  0.222892  0.540852  0.432375   \n",
       "477  0.700000   0.0  0.250412  ...  0.236097  0.222892  0.550621  0.432375   \n",
       "478  0.688235   0.0  0.257002  ...  0.239097  0.222892  0.545737  0.427050   \n",
       "\n",
       "        Var48     Var49     Var50     Var51     Var52  Fault Type  \n",
       "474  0.454148  0.664596  0.575079  0.416104  0.155361          21  \n",
       "475  0.366812  0.447205  0.575079  0.409105  0.091904          21  \n",
       "476  0.441048  0.347826  0.577074  0.412105  0.140044          21  \n",
       "477  0.672489  0.478261  0.575079  0.412105  0.166302          21  \n",
       "478  0.576419  0.621118  0.573084  0.407106  0.118162          21  \n",
       "\n",
       "[5 rows x 53 columns]"
      ]
     },
     "execution_count": 3,
     "metadata": {},
     "output_type": "execute_result"
    }
   ],
   "source": [
    "training_data.tail()"
   ]
  },
  {
   "cell_type": "code",
   "execution_count": 4,
   "metadata": {},
   "outputs": [
    {
     "data": {
      "text/plain": [
       "5     959\n",
       "20    959\n",
       "12    959\n",
       "3     959\n",
       "10    959\n",
       "8     959\n",
       "9     959\n",
       "18    959\n",
       "16    959\n",
       "19    959\n",
       "13    959\n",
       "2     959\n",
       "21    959\n",
       "4     959\n",
       "7     959\n",
       "15    959\n",
       "1     959\n",
       "6     959\n",
       "17    959\n",
       "14    959\n",
       "11    959\n",
       "Name: Fault Type, dtype: int64"
      ]
     },
     "execution_count": 4,
     "metadata": {},
     "output_type": "execute_result"
    }
   ],
   "source": [
    "testing_data['Fault Type'].value_counts()"
   ]
  },
  {
   "cell_type": "code",
   "execution_count": 5,
   "metadata": {},
   "outputs": [],
   "source": [
    "from sklearn.decomposition import PCA"
   ]
  },
  {
   "cell_type": "code",
   "execution_count": 40,
   "metadata": {},
   "outputs": [],
   "source": [
    "pca = PCA(n_components=52)"
   ]
  },
  {
   "cell_type": "code",
   "execution_count": null,
   "metadata": {},
   "outputs": [],
   "source": []
  },
  {
   "cell_type": "code",
   "execution_count": 41,
   "metadata": {},
   "outputs": [],
   "source": [
    "from sklearn.model_selection import train_test_split"
   ]
  },
  {
   "cell_type": "code",
   "execution_count": 42,
   "metadata": {},
   "outputs": [],
   "source": [
    "X = training_data.drop('Fault Type',axis=1)\n",
    "y = training_data['Fault Type']"
   ]
  },
  {
   "cell_type": "code",
   "execution_count": 43,
   "metadata": {},
   "outputs": [
    {
     "data": {
      "text/plain": [
       "PCA(n_components=52)"
      ]
     },
     "execution_count": 43,
     "metadata": {},
     "output_type": "execute_result"
    }
   ],
   "source": [
    "pca.fit(X)"
   ]
  },
  {
   "cell_type": "code",
   "execution_count": 44,
   "metadata": {},
   "outputs": [],
   "source": [
    "scaled_x = pca.transform(X)"
   ]
  },
  {
   "cell_type": "code",
   "execution_count": 45,
   "metadata": {},
   "outputs": [],
   "source": [
    "from sklearn.ensemble import RandomForestClassifier"
   ]
  },
  {
   "cell_type": "code",
   "execution_count": 46,
   "metadata": {},
   "outputs": [],
   "source": [
    "rf = RandomForestClassifier(n_estimators=600)"
   ]
  },
  {
   "cell_type": "code",
   "execution_count": 47,
   "metadata": {},
   "outputs": [
    {
     "data": {
      "text/plain": [
       "RandomForestClassifier(n_estimators=600)"
      ]
     },
     "execution_count": 47,
     "metadata": {},
     "output_type": "execute_result"
    }
   ],
   "source": [
    "rf.fit(scaled_x,y)"
   ]
  },
  {
   "cell_type": "code",
   "execution_count": 48,
   "metadata": {},
   "outputs": [],
   "source": [
    "X_test = testing_data.drop('Fault Type', axis=1)\n",
    "y_test = testing_data['Fault Type']"
   ]
  },
  {
   "cell_type": "code",
   "execution_count": 49,
   "metadata": {},
   "outputs": [
    {
     "data": {
      "text/plain": [
       "PCA(n_components=52)"
      ]
     },
     "execution_count": 49,
     "metadata": {},
     "output_type": "execute_result"
    }
   ],
   "source": [
    "pca.fit(X_test)"
   ]
  },
  {
   "cell_type": "code",
   "execution_count": 50,
   "metadata": {},
   "outputs": [],
   "source": [
    "scaled_test = pca.transform(X_test)"
   ]
  },
  {
   "cell_type": "code",
   "execution_count": 51,
   "metadata": {},
   "outputs": [],
   "source": [
    "predictions = rf.predict(scaled_test)"
   ]
  },
  {
   "cell_type": "code",
   "execution_count": 52,
   "metadata": {},
   "outputs": [],
   "source": [
    "from sklearn.metrics import confusion_matrix, classification_report, accuracy_score"
   ]
  },
  {
   "cell_type": "code",
   "execution_count": 53,
   "metadata": {},
   "outputs": [
    {
     "name": "stdout",
     "output_type": "stream",
     "text": [
      "              precision    recall  f1-score   support\n",
      "\n",
      "           1       0.92      0.81      0.86       959\n",
      "          10       0.26      0.43      0.33       959\n",
      "          11       0.08      0.03      0.04       959\n",
      "          12       0.14      0.35      0.20       959\n",
      "          13       0.27      0.10      0.15       959\n",
      "          14       0.28      0.32      0.30       959\n",
      "          15       0.08      0.05      0.06       959\n",
      "          16       0.13      0.16      0.14       959\n",
      "          17       0.31      0.40      0.35       959\n",
      "          18       0.03      0.02      0.02       959\n",
      "          19       0.26      0.32      0.29       959\n",
      "           2       0.99      0.80      0.88       959\n",
      "          20       0.04      0.07      0.05       959\n",
      "          21       0.05      0.03      0.04       959\n",
      "           3       0.09      0.04      0.05       959\n",
      "           4       0.18      0.18      0.18       959\n",
      "           5       0.06      0.06      0.06       959\n",
      "           6       0.56      0.76      0.64       959\n",
      "           7       0.11      0.08      0.09       959\n",
      "           8       0.32      0.28      0.30       959\n",
      "           9       0.10      0.09      0.10       959\n",
      "\n",
      "    accuracy                           0.26     20139\n",
      "   macro avg       0.25      0.26      0.24     20139\n",
      "weighted avg       0.25      0.26      0.24     20139\n",
      "\n"
     ]
    }
   ],
   "source": [
    "print(classification_report(y_test,predictions))"
   ]
  },
  {
   "cell_type": "code",
   "execution_count": 54,
   "metadata": {},
   "outputs": [
    {
     "name": "stdout",
     "output_type": "stream",
     "text": [
      "0.25562341725011173\n"
     ]
    }
   ],
   "source": [
    "print(accuracy_score(y_test,predictions))"
   ]
  },
  {
   "cell_type": "code",
   "execution_count": 55,
   "metadata": {},
   "outputs": [
    {
     "data": {
      "text/plain": [
       "array([[772,   9,   2,  14,   7,   3,   6,  22,  10,   4,  15,   0,  21,\n",
       "          3,   9,  22,  10,   0,  10,  10,  10],\n",
       "       [  0, 413,   5,  95,   5,  14,  16,  54,  14,  43,  39,   0,  75,\n",
       "         19,  13,  31,  58,   0,  25,   1,  39],\n",
       "       [  0,  74,  24, 101,   1, 105,  36,  73,  44,  25,  72,   2,  96,\n",
       "         43,  26,  82,  49,   0,  26,   4,  76],\n",
       "       [  6,  46,   5, 339,  36,   9,  13,  23,  25,  22,  17,   0,  60,\n",
       "          3,   8,  13,  33,   0,  97, 188,  16],\n",
       "       [  9,  20,   5, 303,  98,  13,  18,  22, 102,  19,  19,   1,  35,\n",
       "          7,  10,  33,   9,   0,  96, 121,  19],\n",
       "       [  0,  78,  46,  51,   3, 308,  20,  59,  58,  21,  41,   0,  78,\n",
       "         21,   8,  34,  53,   0,  33,   1,  46],\n",
       "       [  0,  98,  22, 115,   1,  26,  47,  86,  33,  32,  74,   1, 130,\n",
       "         38,  35,  78,  49,   0,  21,   7,  66],\n",
       "       [  0,  78,  39, 122,   2,  31,  39, 157,  31,  24,  70,   0, 117,\n",
       "         24,  25,  50,  45,   0,  41,   1,  63],\n",
       "       [  0,  56,   7,  85,   2,  19,  34,  62, 385,  17,  34,   0,  55,\n",
       "         32,  17,  48,  38,   0,  20,  16,  32],\n",
       "       [  9,  24,   9,  45,   0,   9,  13,  24,  10,  15,  24,   0,  28,\n",
       "         15,  15,  18,  17, 567,  30,  73,  14],\n",
       "       [  0,  72,  22,  57,   0,  15,  30,  47,  42,  27, 310,   2, 113,\n",
       "         31,  21,  53,  43,   0,  30,   3,  41],\n",
       "       [  0,  27,   6,  14,   0,   2,   3,  15,  17,   6,  10, 766,  30,\n",
       "          8,   4,  17,   9,   0,   7,   2,  16],\n",
       "       [  0,  58,  54,  89,   1, 116,  34, 152,  23,  24,  63,   1,  68,\n",
       "         41,  16,  35,  77,   0,  33,  40,  34],\n",
       "       [  0,  76,  10,  56,   0,  17,  54,  78, 213,  54,  51,   0,  89,\n",
       "         30,  32,  46,  86,   0,  18,  17,  32],\n",
       "       [  0,  97,  19,  69,   2,  20,  46,  89,  44,  34,  85,   0, 133,\n",
       "         57,  35,  60,  57,   0,  39,   0,  73],\n",
       "       [  0,  82,   6,  96,   6,  17,  39,  56,  46,  26,  80,   0, 134,\n",
       "         62,  26, 169,  41,   0,  30,   3,  40],\n",
       "       [  0,  75,  12, 173,  11,  14,  31,  66,  69,  15,  73,   0, 116,\n",
       "         53,  33,  58,  53,   0,  32,  18,  57],\n",
       "       [  5,  20,   2,  22,  27,   5,  12,   7,  26,   6,   9,   0,  27,\n",
       "         11,   2,  10,   4, 726,   9,  15,  14],\n",
       "       [  1,  24,   0, 219,  85, 314,  14,  17,   9,   3,  20,   0,  24,\n",
       "         11,  10,  16,  35,   0,  79,  58,  20],\n",
       "       [ 35,  33,   8, 295,  70,  14,  12,  29,  18,  14,  15,   0,  44,\n",
       "         13,  11,  19,  26,   0,  25, 270,   8],\n",
       "       [  0, 111,  13,  79,   5,  15,  63,  82,  43,  42,  61,   2, 119,\n",
       "         47,  29,  70,  59,   0,  35,   0,  84]], dtype=int64)"
      ]
     },
     "execution_count": 55,
     "metadata": {},
     "output_type": "execute_result"
    }
   ],
   "source": [
    "confusion_matrix(y_test,predictions)"
   ]
  },
  {
   "cell_type": "code",
   "execution_count": null,
   "metadata": {},
   "outputs": [],
   "source": []
  }
 ],
 "metadata": {
  "kernelspec": {
   "display_name": "Python 3",
   "language": "python",
   "name": "python3"
  },
  "language_info": {
   "codemirror_mode": {
    "name": "ipython",
    "version": 3
   },
   "file_extension": ".py",
   "mimetype": "text/x-python",
   "name": "python",
   "nbconvert_exporter": "python",
   "pygments_lexer": "ipython3",
   "version": "3.8.3"
  }
 },
 "nbformat": 4,
 "nbformat_minor": 4
}
